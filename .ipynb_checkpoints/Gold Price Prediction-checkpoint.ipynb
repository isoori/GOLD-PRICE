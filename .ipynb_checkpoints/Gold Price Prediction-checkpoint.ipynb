{
 "cells": [
  {
   "cell_type": "code",
   "execution_count": 24,
   "id": "66d664c0",
   "metadata": {},
   "outputs": [],
   "source": [
    "import pandas as pd\n",
    "import numpy as np\n",
    "import matplotlib.pyplot as plt\n",
    "\n",
    "from sklearn.metrics import r2_score\n",
    "from sklearn.preprocessing import MinMaxScaler\n",
    "\n",
    "from keras.layers import Dense,LSTM,SimpleRNN,Dropout\n",
    "from keras.models import Sequential\n"
   ]
  },
  {
   "cell_type": "code",
   "execution_count": 2,
   "id": "87871e42",
   "metadata": {},
   "outputs": [
    {
     "data": {
      "text/html": [
       "<div>\n",
       "<style scoped>\n",
       "    .dataframe tbody tr th:only-of-type {\n",
       "        vertical-align: middle;\n",
       "    }\n",
       "\n",
       "    .dataframe tbody tr th {\n",
       "        vertical-align: top;\n",
       "    }\n",
       "\n",
       "    .dataframe thead th {\n",
       "        text-align: right;\n",
       "    }\n",
       "</style>\n",
       "<table border=\"1\" class=\"dataframe\">\n",
       "  <thead>\n",
       "    <tr style=\"text-align: right;\">\n",
       "      <th></th>\n",
       "      <th>Date</th>\n",
       "      <th>Open</th>\n",
       "      <th>High</th>\n",
       "      <th>Low</th>\n",
       "      <th>Close</th>\n",
       "      <th>Adj Close</th>\n",
       "      <th>Volume</th>\n",
       "      <th>SP_open</th>\n",
       "      <th>SP_high</th>\n",
       "      <th>SP_low</th>\n",
       "      <th>...</th>\n",
       "      <th>GDX_Low</th>\n",
       "      <th>GDX_Close</th>\n",
       "      <th>GDX_Adj Close</th>\n",
       "      <th>GDX_Volume</th>\n",
       "      <th>USO_Open</th>\n",
       "      <th>USO_High</th>\n",
       "      <th>USO_Low</th>\n",
       "      <th>USO_Close</th>\n",
       "      <th>USO_Adj Close</th>\n",
       "      <th>USO_Volume</th>\n",
       "    </tr>\n",
       "  </thead>\n",
       "  <tbody>\n",
       "    <tr>\n",
       "      <th>0</th>\n",
       "      <td>2011-12-15</td>\n",
       "      <td>154.740005</td>\n",
       "      <td>154.949997</td>\n",
       "      <td>151.710007</td>\n",
       "      <td>152.330002</td>\n",
       "      <td>152.330002</td>\n",
       "      <td>21521900</td>\n",
       "      <td>123.029999</td>\n",
       "      <td>123.199997</td>\n",
       "      <td>121.989998</td>\n",
       "      <td>...</td>\n",
       "      <td>51.570000</td>\n",
       "      <td>51.680000</td>\n",
       "      <td>48.973877</td>\n",
       "      <td>20605600</td>\n",
       "      <td>36.900002</td>\n",
       "      <td>36.939999</td>\n",
       "      <td>36.049999</td>\n",
       "      <td>36.130001</td>\n",
       "      <td>36.130001</td>\n",
       "      <td>12616700</td>\n",
       "    </tr>\n",
       "    <tr>\n",
       "      <th>1</th>\n",
       "      <td>2011-12-16</td>\n",
       "      <td>154.309998</td>\n",
       "      <td>155.369995</td>\n",
       "      <td>153.899994</td>\n",
       "      <td>155.229996</td>\n",
       "      <td>155.229996</td>\n",
       "      <td>18124300</td>\n",
       "      <td>122.230003</td>\n",
       "      <td>122.949997</td>\n",
       "      <td>121.300003</td>\n",
       "      <td>...</td>\n",
       "      <td>52.040001</td>\n",
       "      <td>52.680000</td>\n",
       "      <td>49.921513</td>\n",
       "      <td>16285400</td>\n",
       "      <td>36.180000</td>\n",
       "      <td>36.500000</td>\n",
       "      <td>35.730000</td>\n",
       "      <td>36.270000</td>\n",
       "      <td>36.270000</td>\n",
       "      <td>12578800</td>\n",
       "    </tr>\n",
       "    <tr>\n",
       "      <th>2</th>\n",
       "      <td>2011-12-19</td>\n",
       "      <td>155.479996</td>\n",
       "      <td>155.860001</td>\n",
       "      <td>154.360001</td>\n",
       "      <td>154.869995</td>\n",
       "      <td>154.869995</td>\n",
       "      <td>12547200</td>\n",
       "      <td>122.059998</td>\n",
       "      <td>122.320000</td>\n",
       "      <td>120.029999</td>\n",
       "      <td>...</td>\n",
       "      <td>51.029999</td>\n",
       "      <td>51.169998</td>\n",
       "      <td>48.490578</td>\n",
       "      <td>15120200</td>\n",
       "      <td>36.389999</td>\n",
       "      <td>36.450001</td>\n",
       "      <td>35.930000</td>\n",
       "      <td>36.200001</td>\n",
       "      <td>36.200001</td>\n",
       "      <td>7418200</td>\n",
       "    </tr>\n",
       "    <tr>\n",
       "      <th>3</th>\n",
       "      <td>2011-12-20</td>\n",
       "      <td>156.820007</td>\n",
       "      <td>157.429993</td>\n",
       "      <td>156.580002</td>\n",
       "      <td>156.979996</td>\n",
       "      <td>156.979996</td>\n",
       "      <td>9136300</td>\n",
       "      <td>122.180000</td>\n",
       "      <td>124.139999</td>\n",
       "      <td>120.370003</td>\n",
       "      <td>...</td>\n",
       "      <td>52.369999</td>\n",
       "      <td>52.990002</td>\n",
       "      <td>50.215282</td>\n",
       "      <td>11644900</td>\n",
       "      <td>37.299999</td>\n",
       "      <td>37.610001</td>\n",
       "      <td>37.220001</td>\n",
       "      <td>37.560001</td>\n",
       "      <td>37.560001</td>\n",
       "      <td>10041600</td>\n",
       "    </tr>\n",
       "    <tr>\n",
       "      <th>4</th>\n",
       "      <td>2011-12-21</td>\n",
       "      <td>156.979996</td>\n",
       "      <td>157.529999</td>\n",
       "      <td>156.130005</td>\n",
       "      <td>157.160004</td>\n",
       "      <td>157.160004</td>\n",
       "      <td>11996100</td>\n",
       "      <td>123.930000</td>\n",
       "      <td>124.360001</td>\n",
       "      <td>122.750000</td>\n",
       "      <td>...</td>\n",
       "      <td>52.419998</td>\n",
       "      <td>52.959999</td>\n",
       "      <td>50.186852</td>\n",
       "      <td>8724300</td>\n",
       "      <td>37.669998</td>\n",
       "      <td>38.240002</td>\n",
       "      <td>37.520000</td>\n",
       "      <td>38.110001</td>\n",
       "      <td>38.110001</td>\n",
       "      <td>10728000</td>\n",
       "    </tr>\n",
       "  </tbody>\n",
       "</table>\n",
       "<p>5 rows × 81 columns</p>\n",
       "</div>"
      ],
      "text/plain": [
       "         Date        Open        High         Low       Close   Adj Close  \\\n",
       "0  2011-12-15  154.740005  154.949997  151.710007  152.330002  152.330002   \n",
       "1  2011-12-16  154.309998  155.369995  153.899994  155.229996  155.229996   \n",
       "2  2011-12-19  155.479996  155.860001  154.360001  154.869995  154.869995   \n",
       "3  2011-12-20  156.820007  157.429993  156.580002  156.979996  156.979996   \n",
       "4  2011-12-21  156.979996  157.529999  156.130005  157.160004  157.160004   \n",
       "\n",
       "     Volume     SP_open     SP_high      SP_low  ...    GDX_Low  GDX_Close  \\\n",
       "0  21521900  123.029999  123.199997  121.989998  ...  51.570000  51.680000   \n",
       "1  18124300  122.230003  122.949997  121.300003  ...  52.040001  52.680000   \n",
       "2  12547200  122.059998  122.320000  120.029999  ...  51.029999  51.169998   \n",
       "3   9136300  122.180000  124.139999  120.370003  ...  52.369999  52.990002   \n",
       "4  11996100  123.930000  124.360001  122.750000  ...  52.419998  52.959999   \n",
       "\n",
       "   GDX_Adj Close  GDX_Volume   USO_Open   USO_High    USO_Low  USO_Close  \\\n",
       "0      48.973877    20605600  36.900002  36.939999  36.049999  36.130001   \n",
       "1      49.921513    16285400  36.180000  36.500000  35.730000  36.270000   \n",
       "2      48.490578    15120200  36.389999  36.450001  35.930000  36.200001   \n",
       "3      50.215282    11644900  37.299999  37.610001  37.220001  37.560001   \n",
       "4      50.186852     8724300  37.669998  38.240002  37.520000  38.110001   \n",
       "\n",
       "   USO_Adj Close  USO_Volume  \n",
       "0      36.130001    12616700  \n",
       "1      36.270000    12578800  \n",
       "2      36.200001     7418200  \n",
       "3      37.560001    10041600  \n",
       "4      38.110001    10728000  \n",
       "\n",
       "[5 rows x 81 columns]"
      ]
     },
     "execution_count": 2,
     "metadata": {},
     "output_type": "execute_result"
    }
   ],
   "source": [
    "df = pd.read_csv('FINAL_USO.csv')\n",
    "df.head()"
   ]
  },
  {
   "cell_type": "code",
   "execution_count": 3,
   "id": "35f42676",
   "metadata": {},
   "outputs": [
    {
     "data": {
      "text/plain": [
       "Index(['Date', 'Open', 'High', 'Low', 'Close', 'Adj Close', 'Volume',\n",
       "       'SP_open', 'SP_high', 'SP_low', 'SP_close', 'SP_Ajclose', 'SP_volume',\n",
       "       'DJ_open', 'DJ_high', 'DJ_low', 'DJ_close', 'DJ_Ajclose', 'DJ_volume',\n",
       "       'EG_open', 'EG_high', 'EG_low', 'EG_close', 'EG_Ajclose', 'EG_volume',\n",
       "       'EU_Price', 'EU_open', 'EU_high', 'EU_low', 'EU_Trend', 'OF_Price',\n",
       "       'OF_Open', 'OF_High', 'OF_Low', 'OF_Volume', 'OF_Trend', 'OS_Price',\n",
       "       'OS_Open', 'OS_High', 'OS_Low', 'OS_Trend', 'SF_Price', 'SF_Open',\n",
       "       'SF_High', 'SF_Low', 'SF_Volume', 'SF_Trend', 'USB_Price', 'USB_Open',\n",
       "       'USB_High', 'USB_Low', 'USB_Trend', 'PLT_Price', 'PLT_Open', 'PLT_High',\n",
       "       'PLT_Low', 'PLT_Trend', 'PLD_Price', 'PLD_Open', 'PLD_High', 'PLD_Low',\n",
       "       'PLD_Trend', 'RHO_PRICE', 'USDI_Price', 'USDI_Open', 'USDI_High',\n",
       "       'USDI_Low', 'USDI_Volume', 'USDI_Trend', 'GDX_Open', 'GDX_High',\n",
       "       'GDX_Low', 'GDX_Close', 'GDX_Adj Close', 'GDX_Volume', 'USO_Open',\n",
       "       'USO_High', 'USO_Low', 'USO_Close', 'USO_Adj Close', 'USO_Volume'],\n",
       "      dtype='object')"
      ]
     },
     "execution_count": 3,
     "metadata": {},
     "output_type": "execute_result"
    }
   ],
   "source": [
    "df.columns"
   ]
  },
  {
   "cell_type": "code",
   "execution_count": 4,
   "id": "fe37da39",
   "metadata": {},
   "outputs": [],
   "source": [
    "gold_data = df.loc[:,['Date', 'Open', 'High', 'Low', 'Close', 'Adj Close', 'Volume']]"
   ]
  },
  {
   "cell_type": "code",
   "execution_count": 5,
   "id": "6a1b9ba4",
   "metadata": {},
   "outputs": [
    {
     "data": {
      "text/html": [
       "<div>\n",
       "<style scoped>\n",
       "    .dataframe tbody tr th:only-of-type {\n",
       "        vertical-align: middle;\n",
       "    }\n",
       "\n",
       "    .dataframe tbody tr th {\n",
       "        vertical-align: top;\n",
       "    }\n",
       "\n",
       "    .dataframe thead th {\n",
       "        text-align: right;\n",
       "    }\n",
       "</style>\n",
       "<table border=\"1\" class=\"dataframe\">\n",
       "  <thead>\n",
       "    <tr style=\"text-align: right;\">\n",
       "      <th></th>\n",
       "      <th>Date</th>\n",
       "      <th>Open</th>\n",
       "      <th>High</th>\n",
       "      <th>Low</th>\n",
       "      <th>Close</th>\n",
       "      <th>Adj Close</th>\n",
       "      <th>Volume</th>\n",
       "    </tr>\n",
       "  </thead>\n",
       "  <tbody>\n",
       "    <tr>\n",
       "      <th>0</th>\n",
       "      <td>2011-12-15</td>\n",
       "      <td>154.740005</td>\n",
       "      <td>154.949997</td>\n",
       "      <td>151.710007</td>\n",
       "      <td>152.330002</td>\n",
       "      <td>152.330002</td>\n",
       "      <td>21521900</td>\n",
       "    </tr>\n",
       "    <tr>\n",
       "      <th>1</th>\n",
       "      <td>2011-12-16</td>\n",
       "      <td>154.309998</td>\n",
       "      <td>155.369995</td>\n",
       "      <td>153.899994</td>\n",
       "      <td>155.229996</td>\n",
       "      <td>155.229996</td>\n",
       "      <td>18124300</td>\n",
       "    </tr>\n",
       "    <tr>\n",
       "      <th>2</th>\n",
       "      <td>2011-12-19</td>\n",
       "      <td>155.479996</td>\n",
       "      <td>155.860001</td>\n",
       "      <td>154.360001</td>\n",
       "      <td>154.869995</td>\n",
       "      <td>154.869995</td>\n",
       "      <td>12547200</td>\n",
       "    </tr>\n",
       "    <tr>\n",
       "      <th>3</th>\n",
       "      <td>2011-12-20</td>\n",
       "      <td>156.820007</td>\n",
       "      <td>157.429993</td>\n",
       "      <td>156.580002</td>\n",
       "      <td>156.979996</td>\n",
       "      <td>156.979996</td>\n",
       "      <td>9136300</td>\n",
       "    </tr>\n",
       "    <tr>\n",
       "      <th>4</th>\n",
       "      <td>2011-12-21</td>\n",
       "      <td>156.979996</td>\n",
       "      <td>157.529999</td>\n",
       "      <td>156.130005</td>\n",
       "      <td>157.160004</td>\n",
       "      <td>157.160004</td>\n",
       "      <td>11996100</td>\n",
       "    </tr>\n",
       "  </tbody>\n",
       "</table>\n",
       "</div>"
      ],
      "text/plain": [
       "         Date        Open        High         Low       Close   Adj Close  \\\n",
       "0  2011-12-15  154.740005  154.949997  151.710007  152.330002  152.330002   \n",
       "1  2011-12-16  154.309998  155.369995  153.899994  155.229996  155.229996   \n",
       "2  2011-12-19  155.479996  155.860001  154.360001  154.869995  154.869995   \n",
       "3  2011-12-20  156.820007  157.429993  156.580002  156.979996  156.979996   \n",
       "4  2011-12-21  156.979996  157.529999  156.130005  157.160004  157.160004   \n",
       "\n",
       "     Volume  \n",
       "0  21521900  \n",
       "1  18124300  \n",
       "2  12547200  \n",
       "3   9136300  \n",
       "4  11996100  "
      ]
     },
     "execution_count": 5,
     "metadata": {},
     "output_type": "execute_result"
    }
   ],
   "source": [
    "gold_data.head()"
   ]
  },
  {
   "cell_type": "code",
   "execution_count": 6,
   "id": "ac7788eb",
   "metadata": {},
   "outputs": [
    {
     "name": "stdout",
     "output_type": "stream",
     "text": [
      "<class 'pandas.core.frame.DataFrame'>\n",
      "RangeIndex: 1718 entries, 0 to 1717\n",
      "Data columns (total 7 columns):\n",
      " #   Column     Non-Null Count  Dtype  \n",
      "---  ------     --------------  -----  \n",
      " 0   Date       1718 non-null   object \n",
      " 1   Open       1718 non-null   float64\n",
      " 2   High       1718 non-null   float64\n",
      " 3   Low        1718 non-null   float64\n",
      " 4   Close      1718 non-null   float64\n",
      " 5   Adj Close  1718 non-null   float64\n",
      " 6   Volume     1718 non-null   int64  \n",
      "dtypes: float64(5), int64(1), object(1)\n",
      "memory usage: 94.1+ KB\n"
     ]
    }
   ],
   "source": [
    "gold_data.info()"
   ]
  },
  {
   "cell_type": "code",
   "execution_count": 7,
   "id": "981890b1",
   "metadata": {},
   "outputs": [
    {
     "data": {
      "text/plain": [
       "<AxesSubplot:>"
      ]
     },
     "execution_count": 7,
     "metadata": {},
     "output_type": "execute_result"
    },
    {
     "data": {
      "image/png": "[encoded data removed]",
      "text/plain": [
       "<Figure size 432x288 with 1 Axes>"
      ]
     },
     "metadata": {
      "needs_background": "light"
     },
     "output_type": "display_data"
    }
   ],
   "source": [
    "gold_data['Adj Close'].plot()"
   ]
  },
  {
   "cell_type": "code",
   "execution_count": 9,
   "id": "6795af3b",
   "metadata": {},
   "outputs": [
    {
     "data": {
      "text/plain": [
       "array([152.330002, 155.229996, 154.869995, ..., 120.57    , 121.059998,\n",
       "       121.25    ])"
      ]
     },
     "execution_count": 9,
     "metadata": {},
     "output_type": "execute_result"
    }
   ],
   "source": [
    "data = gold_data['Adj Close'].values\n",
    "data"
   ]
  },
  {
   "cell_type": "code",
   "execution_count": 10,
   "id": "eca4658e",
   "metadata": {},
   "outputs": [
    {
     "data": {
      "text/plain": [
       "array([[152.330002],\n",
       "       [155.229996],\n",
       "       [154.869995],\n",
       "       ...,\n",
       "       [120.57    ],\n",
       "       [121.059998],\n",
       "       [121.25    ]])"
      ]
     },
     "execution_count": 10,
     "metadata": {},
     "output_type": "execute_result"
    }
   ],
   "source": [
    "data = data.reshape(-1,1)\n",
    "data"
   ]
  },
  {
   "cell_type": "code",
   "execution_count": 11,
   "id": "80dc03c1",
   "metadata": {},
   "outputs": [],
   "source": [
    "train = data[:data.shape[0]-50]\n",
    "test = data[len(train):]"
   ]
  },
  {
   "cell_type": "code",
   "execution_count": 14,
   "id": "e887d850",
   "metadata": {},
   "outputs": [
    {
     "data": {
      "text/plain": [
       "(1668, 1)"
      ]
     },
     "execution_count": 14,
     "metadata": {},
     "output_type": "execute_result"
    }
   ],
   "source": [
    "train.shape"
   ]
  },
  {
   "cell_type": "code",
   "execution_count": 15,
   "id": "09a8817b",
   "metadata": {},
   "outputs": [
    {
     "data": {
      "text/plain": [
       "(50, 1)"
      ]
     },
     "execution_count": 15,
     "metadata": {},
     "output_type": "execute_result"
    }
   ],
   "source": [
    "test.shape"
   ]
  },
  {
   "cell_type": "code",
   "execution_count": 16,
   "id": "4911d2ef",
   "metadata": {},
   "outputs": [
    {
     "data": {
      "text/plain": [
       "array([[0.70893176],\n",
       "       [0.74859794],\n",
       "       [0.74367384],\n",
       "       ...,\n",
       "       [0.2120093 ],\n",
       "       [0.20927374],\n",
       "       [0.20913693]])"
      ]
     },
     "execution_count": 16,
     "metadata": {},
     "output_type": "execute_result"
    }
   ],
   "source": [
    "scaller = MinMaxScaler(feature_range=(0,1))\n",
    "train_scalled = scaller.fit_transform(train)\n",
    "train_scalled"
   ]
  },
  {
   "cell_type": "code",
   "execution_count": 17,
   "id": "075880a3",
   "metadata": {},
   "outputs": [],
   "source": [
    "X_train , y_train = [] , []\n",
    "timesteps = 50\n",
    "\n",
    "for i in range (timesteps, train_scalled.shape[0]):\n",
    "    X_train.append(train_scalled[i-timesteps:i,0])\n",
    "    y_train.append(train_scalled[i,0])\n"
   ]
  },
  {
   "cell_type": "code",
   "execution_count": 18,
   "id": "3bffa955",
   "metadata": {},
   "outputs": [],
   "source": [
    "X_train = np.array(X_train)\n",
    "y_train = np.array(y_train)"
   ]
  },
  {
   "cell_type": "code",
   "execution_count": 19,
   "id": "d95278be",
   "metadata": {},
   "outputs": [
    {
     "data": {
      "text/plain": [
       "(1618, 50)"
      ]
     },
     "execution_count": 19,
     "metadata": {},
     "output_type": "execute_result"
    }
   ],
   "source": [
    "X_train.shape"
   ]
  },
  {
   "cell_type": "code",
   "execution_count": 21,
   "id": "5394b48a",
   "metadata": {},
   "outputs": [
    {
     "data": {
      "text/plain": [
       "(1618,)"
      ]
     },
     "execution_count": 21,
     "metadata": {},
     "output_type": "execute_result"
    }
   ],
   "source": [
    "y_train.shape"
   ]
  },
  {
   "cell_type": "code",
   "execution_count": 23,
   "id": "0b155fdd",
   "metadata": {},
   "outputs": [],
   "source": [
    "X_train = X_train.reshape(X_train.shape[0],X_train.shape[1],1)"
   ]
  },
  {
   "cell_type": "code",
   "execution_count": 25,
   "id": "8c334d30",
   "metadata": {},
   "outputs": [],
   "source": [
    "model = Sequential()\n",
    "model.add(LSTM(12, activation='tanh',input_shape=(X_train.shape[1],1),return_sequences=False))\n",
    "model.add(Dense(1))\n",
    "model.compile(optimizer='adam',loss='mean_squared_error')"
   ]
  },
  {
   "cell_type": "code",
   "execution_count": 26,
   "id": "2a7460a8",
   "metadata": {},
   "outputs": [
    {
     "name": "stdout",
     "output_type": "stream",
     "text": [
      "Epoch 1/150\n",
      "405/405 [==============================] - 6s 11ms/step - loss: 8.6877e-04\n",
      "Epoch 2/150\n",
      "405/405 [==============================] - 5s 12ms/step - loss: 7.1038e-04\n",
      "Epoch 3/150\n",
      "405/405 [==============================] - 5s 11ms/step - loss: 5.9136e-04\n",
      "Epoch 4/150\n",
      "405/405 [==============================] - 5s 12ms/step - loss: 5.5684e-04\n",
      "Epoch 5/150\n",
      "405/405 [==============================] - 5s 12ms/step - loss: 5.0297e-04\n",
      "Epoch 6/150\n",
      "405/405 [==============================] - 5s 12ms/step - loss: 4.8293e-04\n",
      "Epoch 7/150\n",
      "405/405 [==============================] - 5s 12ms/step - loss: 4.5354e-04\n",
      "Epoch 8/150\n",
      "405/405 [==============================] - 5s 12ms/step - loss: 4.3393e-04\n",
      "Epoch 9/150\n",
      "405/405 [==============================] - 5s 12ms/step - loss: 4.2374e-04\n",
      "Epoch 10/150\n",
      "405/405 [==============================] - 5s 13ms/step - loss: 4.1144e-04\n",
      "Epoch 11/150\n",
      "405/405 [==============================] - 5s 12ms/step - loss: 4.2247e-04\n",
      "Epoch 12/150\n",
      "405/405 [==============================] - 5s 13ms/step - loss: 3.7326e-04\n",
      "Epoch 13/150\n",
      "405/405 [==============================] - 5s 12ms/step - loss: 3.6980e-04\n",
      "Epoch 14/150\n",
      "405/405 [==============================] - 5s 12ms/step - loss: 3.7235e-04\n",
      "Epoch 15/150\n",
      "405/405 [==============================] - 5s 12ms/step - loss: 3.5315e-04\n",
      "Epoch 16/150\n",
      "405/405 [==============================] - 5s 12ms/step - loss: 3.5873e-04\n",
      "Epoch 17/150\n",
      "405/405 [==============================] - 5s 13ms/step - loss: 3.6361e-04\n",
      "Epoch 18/150\n",
      "405/405 [==============================] - 5s 12ms/step - loss: 3.2776e-04\n",
      "Epoch 19/150\n",
      "405/405 [==============================] - 5s 12ms/step - loss: 3.4215e-04\n",
      "Epoch 20/150\n",
      "405/405 [==============================] - 5s 12ms/step - loss: 3.2152e-04\n",
      "Epoch 21/150\n",
      "405/405 [==============================] - 5s 13ms/step - loss: 3.1838e-04\n",
      "Epoch 22/150\n",
      "405/405 [==============================] - 5s 12ms/step - loss: 3.3339e-04\n",
      "Epoch 23/150\n",
      "405/405 [==============================] - 5s 12ms/step - loss: 3.2152e-04\n",
      "Epoch 24/150\n",
      "405/405 [==============================] - 5s 12ms/step - loss: 3.3352e-04\n",
      "Epoch 25/150\n",
      "405/405 [==============================] - 5s 12ms/step - loss: 3.1104e-04\n",
      "Epoch 26/150\n",
      "405/405 [==============================] - 5s 12ms/step - loss: 3.0244e-04\n",
      "Epoch 27/150\n",
      "405/405 [==============================] - 5s 12ms/step - loss: 3.0839e-04\n",
      "Epoch 28/150\n",
      "405/405 [==============================] - 5s 12ms/step - loss: 3.1199e-04\n",
      "Epoch 29/150\n",
      "405/405 [==============================] - 5s 13ms/step - loss: 3.0795e-04\n",
      "Epoch 30/150\n",
      "405/405 [==============================] - 5s 12ms/step - loss: 3.0212e-04\n",
      "Epoch 31/150\n",
      "405/405 [==============================] - 5s 12ms/step - loss: 3.0575e-04\n",
      "Epoch 32/150\n",
      "405/405 [==============================] - 5s 12ms/step - loss: 3.2076e-04\n",
      "Epoch 33/150\n",
      "405/405 [==============================] - 5s 12ms/step - loss: 3.2662e-04\n",
      "Epoch 34/150\n",
      "405/405 [==============================] - 5s 12ms/step - loss: 3.0519e-04\n",
      "Epoch 35/150\n",
      "405/405 [==============================] - 5s 12ms/step - loss: 3.1547e-04\n",
      "Epoch 36/150\n",
      "405/405 [==============================] - 5s 11ms/step - loss: 3.1005e-04\n",
      "Epoch 37/150\n",
      "405/405 [==============================] - 4s 10ms/step - loss: 3.0622e-04\n",
      "Epoch 38/150\n",
      "405/405 [==============================] - 4s 10ms/step - loss: 3.0350e-04\n",
      "Epoch 39/150\n",
      "405/405 [==============================] - 4s 10ms/step - loss: 3.1664e-04\n",
      "Epoch 40/150\n",
      "405/405 [==============================] - 5s 12ms/step - loss: 3.0862e-04\n",
      "Epoch 41/150\n",
      "405/405 [==============================] - 4s 11ms/step - loss: 3.0498e-04\n",
      "Epoch 42/150\n",
      "405/405 [==============================] - 4s 11ms/step - loss: 3.0378e-04\n",
      "Epoch 43/150\n",
      "405/405 [==============================] - 4s 10ms/step - loss: 3.0861e-04\n",
      "Epoch 44/150\n",
      "405/405 [==============================] - 4s 10ms/step - loss: 3.1114e-04\n",
      "Epoch 45/150\n",
      "405/405 [==============================] - 4s 10ms/step - loss: 3.1231e-04\n",
      "Epoch 46/150\n",
      "405/405 [==============================] - 4s 10ms/step - loss: 3.1102e-04\n",
      "Epoch 47/150\n",
      "405/405 [==============================] - 4s 10ms/step - loss: 3.1328e-04\n",
      "Epoch 48/150\n",
      "405/405 [==============================] - 4s 10ms/step - loss: 3.1091e-04\n",
      "Epoch 49/150\n",
      "405/405 [==============================] - 4s 10ms/step - loss: 3.0557e-04\n",
      "Epoch 50/150\n",
      "405/405 [==============================] - 4s 10ms/step - loss: 3.1373e-04\n",
      "Epoch 51/150\n",
      "405/405 [==============================] - 4s 10ms/step - loss: 3.1680e-04\n",
      "Epoch 52/150\n",
      "405/405 [==============================] - 4s 10ms/step - loss: 3.2278e-04\n",
      "Epoch 53/150\n",
      "405/405 [==============================] - 4s 10ms/step - loss: 2.9768e-04\n",
      "Epoch 54/150\n",
      "405/405 [==============================] - 4s 10ms/step - loss: 2.9467e-04\n",
      "Epoch 55/150\n",
      "405/405 [==============================] - 4s 10ms/step - loss: 3.0922e-04\n",
      "Epoch 56/150\n",
      "405/405 [==============================] - 4s 10ms/step - loss: 3.1034e-04\n",
      "Epoch 57/150\n",
      "405/405 [==============================] - 4s 10ms/step - loss: 3.0258e-04\n",
      "Epoch 58/150\n",
      "405/405 [==============================] - 4s 10ms/step - loss: 3.0584e-04\n",
      "Epoch 59/150\n",
      "405/405 [==============================] - 4s 10ms/step - loss: 3.0149e-04\n",
      "Epoch 60/150\n",
      "405/405 [==============================] - 4s 10ms/step - loss: 3.0177e-04\n",
      "Epoch 61/150\n",
      "405/405 [==============================] - 4s 10ms/step - loss: 3.0649e-04\n",
      "Epoch 62/150\n",
      "405/405 [==============================] - 4s 10ms/step - loss: 3.1611e-04\n",
      "Epoch 63/150\n",
      "405/405 [==============================] - 4s 10ms/step - loss: 3.0147e-04\n",
      "Epoch 64/150\n",
      "405/405 [==============================] - 4s 10ms/step - loss: 3.0112e-04\n",
      "Epoch 65/150\n",
      "405/405 [==============================] - 4s 10ms/step - loss: 2.9803e-04\n",
      "Epoch 66/150\n",
      "405/405 [==============================] - 4s 10ms/step - loss: 3.1290e-04\n",
      "Epoch 67/150\n",
      "405/405 [==============================] - 4s 10ms/step - loss: 3.0061e-04\n",
      "Epoch 68/150\n",
      "405/405 [==============================] - 4s 10ms/step - loss: 3.1007e-04\n",
      "Epoch 69/150\n",
      "405/405 [==============================] - 4s 10ms/step - loss: 3.0347e-04\n",
      "Epoch 70/150\n",
      "405/405 [==============================] - 4s 10ms/step - loss: 3.1360e-04\n",
      "Epoch 71/150\n",
      "405/405 [==============================] - 4s 10ms/step - loss: 3.0504e-04\n",
      "Epoch 72/150\n",
      "405/405 [==============================] - 4s 10ms/step - loss: 3.0603e-04\n",
      "Epoch 73/150\n",
      "405/405 [==============================] - 4s 10ms/step - loss: 3.0361e-04\n",
      "Epoch 74/150\n",
      "405/405 [==============================] - 4s 10ms/step - loss: 3.0885e-04\n",
      "Epoch 75/150\n",
      "405/405 [==============================] - 4s 10ms/step - loss: 2.9759e-04\n",
      "Epoch 76/150\n",
      "405/405 [==============================] - 4s 10ms/step - loss: 3.0427e-04\n",
      "Epoch 77/150\n",
      "405/405 [==============================] - 4s 10ms/step - loss: 3.1008e-04\n",
      "Epoch 78/150\n",
      "405/405 [==============================] - 4s 10ms/step - loss: 3.0002e-04\n",
      "Epoch 79/150\n",
      "405/405 [==============================] - 4s 10ms/step - loss: 3.0024e-04\n",
      "Epoch 80/150\n",
      "405/405 [==============================] - 4s 10ms/step - loss: 3.0058e-04\n",
      "Epoch 81/150\n",
      "405/405 [==============================] - 4s 11ms/step - loss: 3.0922e-04\n",
      "Epoch 82/150\n",
      "405/405 [==============================] - 4s 11ms/step - loss: 2.9968e-04\n",
      "Epoch 83/150\n",
      "405/405 [==============================] - 4s 11ms/step - loss: 3.0454e-04\n",
      "Epoch 84/150\n",
      "405/405 [==============================] - 4s 11ms/step - loss: 2.9663e-04\n",
      "Epoch 85/150\n",
      "405/405 [==============================] - 4s 11ms/step - loss: 3.0375e-04\n",
      "Epoch 86/150\n",
      "405/405 [==============================] - 4s 11ms/step - loss: 3.0713e-04\n",
      "Epoch 87/150\n",
      "405/405 [==============================] - 5s 11ms/step - loss: 3.0838e-04\n",
      "Epoch 88/150\n",
      "405/405 [==============================] - 4s 11ms/step - loss: 3.0634e-04\n",
      "Epoch 89/150\n",
      "405/405 [==============================] - 4s 11ms/step - loss: 2.9902e-04\n",
      "Epoch 90/150\n",
      "405/405 [==============================] - 4s 11ms/step - loss: 3.1119e-04\n",
      "Epoch 91/150\n",
      "405/405 [==============================] - 4s 11ms/step - loss: 2.9768e-04\n",
      "Epoch 92/150\n",
      "405/405 [==============================] - 4s 11ms/step - loss: 3.0223e-04\n",
      "Epoch 93/150\n",
      "405/405 [==============================] - 4s 11ms/step - loss: 2.9832e-04\n",
      "Epoch 94/150\n"
     ]
    },
    {
     "name": "stdout",
     "output_type": "stream",
     "text": [
      "405/405 [==============================] - 4s 11ms/step - loss: 3.0195e-04\n",
      "Epoch 95/150\n",
      "405/405 [==============================] - 4s 11ms/step - loss: 2.9874e-04\n",
      "Epoch 96/150\n",
      "405/405 [==============================] - 4s 11ms/step - loss: 3.1253e-04\n",
      "Epoch 97/150\n",
      "405/405 [==============================] - 4s 11ms/step - loss: 3.0332e-04\n",
      "Epoch 98/150\n",
      "405/405 [==============================] - 5s 12ms/step - loss: 2.9657e-04\n",
      "Epoch 99/150\n",
      "405/405 [==============================] - 4s 11ms/step - loss: 3.0414e-04\n",
      "Epoch 100/150\n",
      "405/405 [==============================] - 4s 11ms/step - loss: 3.0305e-04\n",
      "Epoch 101/150\n",
      "405/405 [==============================] - 4s 11ms/step - loss: 3.0413e-04\n",
      "Epoch 102/150\n",
      "405/405 [==============================] - 4s 11ms/step - loss: 2.9876e-04\n",
      "Epoch 103/150\n",
      "405/405 [==============================] - 4s 11ms/step - loss: 2.9651e-04\n",
      "Epoch 104/150\n",
      "405/405 [==============================] - 4s 11ms/step - loss: 3.1251e-04\n",
      "Epoch 105/150\n",
      "405/405 [==============================] - 4s 11ms/step - loss: 3.0726e-04\n",
      "Epoch 106/150\n",
      "405/405 [==============================] - 4s 11ms/step - loss: 2.9911e-04\n",
      "Epoch 107/150\n",
      "405/405 [==============================] - 4s 11ms/step - loss: 2.9688e-04\n",
      "Epoch 108/150\n",
      "405/405 [==============================] - 4s 11ms/step - loss: 2.9786e-04\n",
      "Epoch 109/150\n",
      "405/405 [==============================] - 4s 11ms/step - loss: 3.0658e-04\n",
      "Epoch 110/150\n",
      "405/405 [==============================] - 4s 11ms/step - loss: 2.9859e-04\n",
      "Epoch 111/150\n",
      "405/405 [==============================] - 4s 11ms/step - loss: 3.0503e-04\n",
      "Epoch 112/150\n",
      "405/405 [==============================] - 4s 11ms/step - loss: 3.0653e-04\n",
      "Epoch 113/150\n",
      "405/405 [==============================] - 4s 11ms/step - loss: 3.0204e-04\n",
      "Epoch 114/150\n",
      "405/405 [==============================] - 4s 11ms/step - loss: 3.0192e-04\n",
      "Epoch 115/150\n",
      "405/405 [==============================] - 4s 11ms/step - loss: 2.9502e-04\n",
      "Epoch 116/150\n",
      "405/405 [==============================] - 4s 11ms/step - loss: 2.9776e-04\n",
      "Epoch 117/150\n",
      "405/405 [==============================] - 4s 11ms/step - loss: 3.0788e-04\n",
      "Epoch 118/150\n",
      "405/405 [==============================] - 4s 11ms/step - loss: 3.0845e-04\n",
      "Epoch 119/150\n",
      "405/405 [==============================] - 4s 11ms/step - loss: 2.9932e-04\n",
      "Epoch 120/150\n",
      "405/405 [==============================] - 4s 11ms/step - loss: 3.0394e-04\n",
      "Epoch 121/150\n",
      "405/405 [==============================] - 4s 11ms/step - loss: 2.9326e-04\n",
      "Epoch 122/150\n",
      "405/405 [==============================] - 4s 11ms/step - loss: 3.1120e-04\n",
      "Epoch 123/150\n",
      "405/405 [==============================] - 4s 11ms/step - loss: 3.1818e-04\n",
      "Epoch 124/150\n",
      "405/405 [==============================] - 4s 11ms/step - loss: 2.9928e-04\n",
      "Epoch 125/150\n",
      "405/405 [==============================] - 4s 11ms/step - loss: 2.9750e-04\n",
      "Epoch 126/150\n",
      "405/405 [==============================] - 4s 11ms/step - loss: 2.9683e-04\n",
      "Epoch 127/150\n",
      "405/405 [==============================] - 4s 11ms/step - loss: 3.0180e-04\n",
      "Epoch 128/150\n",
      "405/405 [==============================] - 4s 11ms/step - loss: 2.9977e-04\n",
      "Epoch 129/150\n",
      "405/405 [==============================] - 4s 11ms/step - loss: 3.0496e-04\n",
      "Epoch 130/150\n",
      "405/405 [==============================] - 4s 11ms/step - loss: 3.0695e-04\n",
      "Epoch 131/150\n",
      "405/405 [==============================] - 4s 11ms/step - loss: 3.0126e-04\n",
      "Epoch 132/150\n",
      "405/405 [==============================] - 4s 11ms/step - loss: 2.9771e-04\n",
      "Epoch 133/150\n",
      "405/405 [==============================] - 4s 11ms/step - loss: 3.0632e-04\n",
      "Epoch 134/150\n",
      "405/405 [==============================] - 4s 11ms/step - loss: 2.9602e-04\n",
      "Epoch 135/150\n",
      "405/405 [==============================] - 4s 11ms/step - loss: 2.9772e-04\n",
      "Epoch 136/150\n",
      "405/405 [==============================] - 4s 11ms/step - loss: 2.9676e-04\n",
      "Epoch 137/150\n",
      "405/405 [==============================] - 4s 11ms/step - loss: 3.0033e-04\n",
      "Epoch 138/150\n",
      "405/405 [==============================] - 4s 11ms/step - loss: 3.0545e-04\n",
      "Epoch 139/150\n",
      "405/405 [==============================] - 4s 11ms/step - loss: 3.0039e-04\n",
      "Epoch 140/150\n",
      "405/405 [==============================] - 4s 11ms/step - loss: 2.9575e-04\n",
      "Epoch 141/150\n",
      "405/405 [==============================] - 4s 11ms/step - loss: 2.9615e-04\n",
      "Epoch 142/150\n",
      "405/405 [==============================] - 4s 11ms/step - loss: 2.9600e-04\n",
      "Epoch 143/150\n",
      "405/405 [==============================] - 4s 11ms/step - loss: 2.9322e-04\n",
      "Epoch 144/150\n",
      "405/405 [==============================] - 4s 11ms/step - loss: 2.9682e-04\n",
      "Epoch 145/150\n",
      "405/405 [==============================] - 4s 11ms/step - loss: 2.9848e-04\n",
      "Epoch 146/150\n",
      "405/405 [==============================] - 4s 11ms/step - loss: 3.0453e-04\n",
      "Epoch 147/150\n",
      "405/405 [==============================] - 4s 11ms/step - loss: 2.9790e-04\n",
      "Epoch 148/150\n",
      "405/405 [==============================] - 4s 11ms/step - loss: 2.9948e-04\n",
      "Epoch 149/150\n",
      "405/405 [==============================] - 4s 11ms/step - loss: 2.9916e-04\n",
      "Epoch 150/150\n",
      "405/405 [==============================] - 4s 11ms/step - loss: 2.9753e-04\n"
     ]
    },
    {
     "data": {
      "text/plain": [
       "<keras.callbacks.History at 0x23eef813790>"
      ]
     },
     "execution_count": 26,
     "metadata": {},
     "output_type": "execute_result"
    }
   ],
   "source": [
    "model.fit(X_train,y_train,batch_size=4,epochs=150)"
   ]
  },
  {
   "cell_type": "code",
   "execution_count": 28,
   "id": "0cdb8bd3",
   "metadata": {},
   "outputs": [],
   "source": [
    "XT = data[len(data)-len(test)-timesteps:]\n",
    "XT = XT.reshape(-1,1)\n",
    "XT_scalled = scaller.transform(XT)\n",
    "\n",
    "\n",
    "\n",
    "X_test = []\n",
    "for i in range(timesteps,XT_scalled.shape[0]):\n",
    "    X_test.append(XT_scalled[i-timesteps:i,0])\n"
   ]
  },
  {
   "cell_type": "code",
   "execution_count": 30,
   "id": "8c592b86",
   "metadata": {},
   "outputs": [
    {
     "data": {
      "text/plain": [
       "(50, 50)"
      ]
     },
     "execution_count": 30,
     "metadata": {},
     "output_type": "execute_result"
    }
   ],
   "source": [
    "X_test = np.array(X_test)\n",
    "X_test.shape"
   ]
  },
  {
   "cell_type": "code",
   "execution_count": 32,
   "id": "e86678a3",
   "metadata": {},
   "outputs": [],
   "source": [
    "X_test = X_test.reshape(X_test.shape[0],X_test.shape[1],1)"
   ]
  },
  {
   "cell_type": "code",
   "execution_count": 33,
   "id": "466ae58a",
   "metadata": {},
   "outputs": [
    {
     "name": "stdout",
     "output_type": "stream",
     "text": [
      "2/2 [==============================] - 0s 4ms/step\n"
     ]
    }
   ],
   "source": [
    "predict = model.predict(X_test)\n",
    "normal_price = scaller.inverse_transform(predict)"
   ]
  },
  {
   "cell_type": "code",
   "execution_count": 39,
   "id": "9c5cdc29",
   "metadata": {},
   "outputs": [
    {
     "data": {
      "image/png": "[encoded data removed]",
      "text/plain": [
       "<Figure size 640x320 with 1 Axes>"
      ]
     },
     "metadata": {},
     "output_type": "display_data"
    }
   ],
   "source": [
    "plt.figure(figsize=(8,4), dpi=80, facecolor='w', edgecolor='k')\n",
    "plt.plot(test,color=\"orange\",label=\"Real value\")\n",
    "plt.plot(normal_price,color=\"c\",label=\"LSTM predicted result\")\n",
    "plt.legend()\n",
    "plt.xlabel(\"Days\")\n",
    "plt.ylabel(\"Values\")\n",
    "plt.grid(True)\n",
    "plt.show()"
   ]
  },
  {
   "cell_type": "code",
   "execution_count": 35,
   "id": "eab83974",
   "metadata": {},
   "outputs": [
    {
     "data": {
      "text/plain": [
       "0.8397566511460548"
      ]
     },
     "execution_count": 35,
     "metadata": {},
     "output_type": "execute_result"
    }
   ],
   "source": [
    "r2_score(test,normal_price)"
   ]
  },
  {
   "cell_type": "code",
   "execution_count": 36,
   "id": "3c6421c6",
   "metadata": {},
   "outputs": [],
   "source": [
    "model2 = Sequential()\n",
    "model2.add(LSTM(12, activation='tanh',input_shape=(X_train.shape[1],1),return_sequences=True))\n",
    "model2.add(LSTM(6, activation='tanh',return_sequences=False))\n",
    "model2.add(Dense(1))\n",
    "model2.compile(optimizer='adam',loss='mean_squared_error')"
   ]
  },
  {
   "cell_type": "code",
   "execution_count": 37,
   "id": "e76564b3",
   "metadata": {},
   "outputs": [
    {
     "name": "stdout",
     "output_type": "stream",
     "text": [
      "Epoch 1/100\n",
      "405/405 [==============================] - 12s 21ms/step - loss: 0.0126\n",
      "Epoch 2/100\n",
      "405/405 [==============================] - 9s 22ms/step - loss: 0.0016\n",
      "Epoch 3/100\n",
      "405/405 [==============================] - 9s 23ms/step - loss: 0.0015\n",
      "Epoch 4/100\n",
      "405/405 [==============================] - 10s 24ms/step - loss: 0.0012\n",
      "Epoch 5/100\n",
      "405/405 [==============================] - 10s 24ms/step - loss: 0.0011\n",
      "Epoch 6/100\n",
      "405/405 [==============================] - 9s 22ms/step - loss: 9.7902e-04\n",
      "Epoch 7/100\n",
      "405/405 [==============================] - 9s 21ms/step - loss: 8.7915e-04\n",
      "Epoch 8/100\n",
      "405/405 [==============================] - 9s 21ms/step - loss: 8.0950e-04\n",
      "Epoch 9/100\n",
      "405/405 [==============================] - 9s 21ms/step - loss: 8.2831e-04\n",
      "Epoch 10/100\n",
      "405/405 [==============================] - 9s 21ms/step - loss: 7.1443e-04\n",
      "Epoch 11/100\n",
      "405/405 [==============================] - 9s 21ms/step - loss: 7.1012e-04\n",
      "Epoch 12/100\n",
      "405/405 [==============================] - 9s 21ms/step - loss: 6.5646e-04\n",
      "Epoch 13/100\n",
      "405/405 [==============================] - 9s 21ms/step - loss: 6.5726e-04\n",
      "Epoch 14/100\n",
      "405/405 [==============================] - 9s 21ms/step - loss: 5.9641e-04\n",
      "Epoch 15/100\n",
      "405/405 [==============================] - 9s 21ms/step - loss: 5.7104e-04\n",
      "Epoch 16/100\n",
      "405/405 [==============================] - 9s 21ms/step - loss: 5.5954e-04\n",
      "Epoch 17/100\n",
      "405/405 [==============================] - 9s 21ms/step - loss: 5.1289e-04\n",
      "Epoch 18/100\n",
      "405/405 [==============================] - 9s 21ms/step - loss: 4.7566e-04\n",
      "Epoch 19/100\n",
      "405/405 [==============================] - 9s 21ms/step - loss: 4.8394e-04\n",
      "Epoch 20/100\n",
      "405/405 [==============================] - 9s 21ms/step - loss: 4.3880e-04\n",
      "Epoch 21/100\n",
      "405/405 [==============================] - 9s 21ms/step - loss: 4.1127e-04\n",
      "Epoch 22/100\n",
      "405/405 [==============================] - 9s 21ms/step - loss: 4.3503e-04\n",
      "Epoch 23/100\n",
      "405/405 [==============================] - 9s 21ms/step - loss: 4.1832e-04\n",
      "Epoch 24/100\n",
      "405/405 [==============================] - 9s 21ms/step - loss: 3.8734e-04\n",
      "Epoch 25/100\n",
      "405/405 [==============================] - 9s 21ms/step - loss: 4.1732e-04\n",
      "Epoch 26/100\n",
      "405/405 [==============================] - 9s 21ms/step - loss: 3.9636e-04\n",
      "Epoch 27/100\n",
      "405/405 [==============================] - 9s 21ms/step - loss: 3.6991e-04\n",
      "Epoch 28/100\n",
      "405/405 [==============================] - 9s 21ms/step - loss: 3.6885e-04\n",
      "Epoch 29/100\n",
      "405/405 [==============================] - 9s 21ms/step - loss: 3.5880e-04\n",
      "Epoch 30/100\n",
      "405/405 [==============================] - 9s 21ms/step - loss: 3.4559e-04\n",
      "Epoch 31/100\n",
      "405/405 [==============================] - 9s 21ms/step - loss: 3.6339e-04\n",
      "Epoch 32/100\n",
      "405/405 [==============================] - 9s 21ms/step - loss: 3.5985e-04\n",
      "Epoch 33/100\n",
      "405/405 [==============================] - 9s 21ms/step - loss: 3.3762e-04\n",
      "Epoch 34/100\n",
      "405/405 [==============================] - 9s 21ms/step - loss: 3.4562e-04\n",
      "Epoch 35/100\n",
      "405/405 [==============================] - 9s 22ms/step - loss: 3.6100e-04\n",
      "Epoch 36/100\n",
      "405/405 [==============================] - 9s 23ms/step - loss: 3.6575e-04\n",
      "Epoch 37/100\n",
      "405/405 [==============================] - 9s 23ms/step - loss: 3.4273e-04\n",
      "Epoch 38/100\n",
      "405/405 [==============================] - 9s 22ms/step - loss: 3.5475e-04\n",
      "Epoch 39/100\n",
      "405/405 [==============================] - 9s 21ms/step - loss: 3.3667e-04\n",
      "Epoch 40/100\n",
      "405/405 [==============================] - 9s 21ms/step - loss: 3.3880e-04\n",
      "Epoch 41/100\n",
      "405/405 [==============================] - 9s 21ms/step - loss: 3.5096e-04\n",
      "Epoch 42/100\n",
      "405/405 [==============================] - 9s 21ms/step - loss: 3.3805e-04\n",
      "Epoch 43/100\n",
      "405/405 [==============================] - 9s 22ms/step - loss: 3.4885e-04\n",
      "Epoch 44/100\n",
      "405/405 [==============================] - 9s 21ms/step - loss: 3.6349e-04\n",
      "Epoch 45/100\n",
      "405/405 [==============================] - 9s 21ms/step - loss: 3.4495e-04\n",
      "Epoch 46/100\n",
      "405/405 [==============================] - 9s 22ms/step - loss: 3.4561e-04\n",
      "Epoch 47/100\n",
      "405/405 [==============================] - 9s 22ms/step - loss: 3.3765e-04\n",
      "Epoch 48/100\n",
      "405/405 [==============================] - 9s 22ms/step - loss: 3.3842e-04\n",
      "Epoch 49/100\n",
      "405/405 [==============================] - 9s 21ms/step - loss: 3.4371e-04\n",
      "Epoch 50/100\n",
      "405/405 [==============================] - 9s 21ms/step - loss: 3.4518e-04\n",
      "Epoch 51/100\n",
      "405/405 [==============================] - 9s 22ms/step - loss: 3.2660e-04\n",
      "Epoch 52/100\n",
      "405/405 [==============================] - 9s 22ms/step - loss: 3.4847e-04\n",
      "Epoch 53/100\n",
      "405/405 [==============================] - 9s 22ms/step - loss: 3.3475e-04\n",
      "Epoch 54/100\n",
      "405/405 [==============================] - 9s 22ms/step - loss: 3.2565e-04\n",
      "Epoch 55/100\n",
      "405/405 [==============================] - 9s 22ms/step - loss: 3.1851e-04\n",
      "Epoch 56/100\n",
      "405/405 [==============================] - 9s 21ms/step - loss: 3.3283e-04\n",
      "Epoch 57/100\n",
      "405/405 [==============================] - 9s 22ms/step - loss: 3.2434e-04\n",
      "Epoch 58/100\n",
      "405/405 [==============================] - 9s 22ms/step - loss: 3.2765e-04\n",
      "Epoch 59/100\n",
      "405/405 [==============================] - 9s 22ms/step - loss: 3.2467e-04\n",
      "Epoch 60/100\n",
      "405/405 [==============================] - 9s 22ms/step - loss: 3.2974e-04\n",
      "Epoch 61/100\n",
      "405/405 [==============================] - 9s 21ms/step - loss: 3.2566e-04\n",
      "Epoch 62/100\n",
      "405/405 [==============================] - 9s 21ms/step - loss: 3.3073e-04\n",
      "Epoch 63/100\n",
      "405/405 [==============================] - 9s 22ms/step - loss: 3.1906e-04\n",
      "Epoch 64/100\n",
      "405/405 [==============================] - 9s 23ms/step - loss: 3.2884e-04\n",
      "Epoch 65/100\n",
      "405/405 [==============================] - 9s 23ms/step - loss: 3.3362e-04\n",
      "Epoch 66/100\n",
      "405/405 [==============================] - 9s 23ms/step - loss: 3.3035e-04\n",
      "Epoch 67/100\n",
      "405/405 [==============================] - 10s 24ms/step - loss: 3.2053e-04\n",
      "Epoch 68/100\n",
      "405/405 [==============================] - 9s 22ms/step - loss: 3.1787e-04\n",
      "Epoch 69/100\n",
      "405/405 [==============================] - 9s 22ms/step - loss: 3.3050e-04\n",
      "Epoch 70/100\n",
      "405/405 [==============================] - 9s 22ms/step - loss: 3.3544e-04\n",
      "Epoch 71/100\n",
      "405/405 [==============================] - 9s 22ms/step - loss: 3.2652e-04\n",
      "Epoch 72/100\n",
      "405/405 [==============================] - 9s 23ms/step - loss: 3.1184e-04\n",
      "Epoch 73/100\n",
      "405/405 [==============================] - 9s 22ms/step - loss: 3.2281e-04\n",
      "Epoch 74/100\n",
      "405/405 [==============================] - 9s 22ms/step - loss: 3.1943e-04\n",
      "Epoch 75/100\n",
      "405/405 [==============================] - 9s 23ms/step - loss: 3.4162e-04\n",
      "Epoch 76/100\n",
      "405/405 [==============================] - 9s 23ms/step - loss: 3.0883e-04\n",
      "Epoch 77/100\n",
      "405/405 [==============================] - 9s 23ms/step - loss: 3.3669e-04\n",
      "Epoch 78/100\n",
      "405/405 [==============================] - 9s 22ms/step - loss: 3.2502e-04\n",
      "Epoch 79/100\n",
      "405/405 [==============================] - 10s 24ms/step - loss: 3.1179e-04\n",
      "Epoch 80/100\n",
      "405/405 [==============================] - 9s 21ms/step - loss: 3.2648e-04\n",
      "Epoch 81/100\n",
      "405/405 [==============================] - 10s 24ms/step - loss: 3.1315e-04\n",
      "Epoch 82/100\n",
      "405/405 [==============================] - 9s 22ms/step - loss: 3.0303e-04\n",
      "Epoch 83/100\n",
      "405/405 [==============================] - 8s 21ms/step - loss: 3.2501e-04\n",
      "Epoch 84/100\n",
      "405/405 [==============================] - 8s 21ms/step - loss: 3.3737e-04\n",
      "Epoch 85/100\n",
      "405/405 [==============================] - 9s 22ms/step - loss: 3.2273e-04\n",
      "Epoch 86/100\n",
      "405/405 [==============================] - 9s 22ms/step - loss: 3.2645e-04\n",
      "Epoch 87/100\n",
      "405/405 [==============================] - 9s 22ms/step - loss: 3.2084e-04\n",
      "Epoch 88/100\n",
      "405/405 [==============================] - 9s 22ms/step - loss: 3.1252e-04\n",
      "Epoch 89/100\n",
      "405/405 [==============================] - 10s 24ms/step - loss: 3.2731e-04\n",
      "Epoch 90/100\n",
      "405/405 [==============================] - 10s 25ms/step - loss: 3.2576e-04\n",
      "Epoch 91/100\n",
      "405/405 [==============================] - 10s 26ms/step - loss: 3.2030e-04\n",
      "Epoch 92/100\n",
      "405/405 [==============================] - 10s 26ms/step - loss: 3.1749e-04\n",
      "Epoch 93/100\n",
      "405/405 [==============================] - 10s 26ms/step - loss: 3.3019e-04\n",
      "Epoch 94/100\n"
     ]
    },
    {
     "name": "stdout",
     "output_type": "stream",
     "text": [
      "405/405 [==============================] - 10s 25ms/step - loss: 3.1831e-04\n",
      "Epoch 95/100\n",
      "405/405 [==============================] - 10s 26ms/step - loss: 3.2125e-04\n",
      "Epoch 96/100\n",
      "405/405 [==============================] - 10s 26ms/step - loss: 3.1930e-04\n",
      "Epoch 97/100\n",
      "405/405 [==============================] - 10s 26ms/step - loss: 3.1238e-04\n",
      "Epoch 98/100\n",
      "405/405 [==============================] - 10s 26ms/step - loss: 3.1211e-04\n",
      "Epoch 99/100\n",
      "405/405 [==============================] - 10s 25ms/step - loss: 3.0639e-04\n",
      "Epoch 100/100\n",
      "405/405 [==============================] - 10s 25ms/step - loss: 3.2072e-04\n"
     ]
    },
    {
     "data": {
      "text/plain": [
       "<keras.callbacks.History at 0x23ef8b5cb50>"
      ]
     },
     "execution_count": 37,
     "metadata": {},
     "output_type": "execute_result"
    }
   ],
   "source": [
    "model2.fit(X_train,y_train,batch_size=4,epochs=100)"
   ]
  },
  {
   "cell_type": "code",
   "execution_count": 38,
   "id": "79898a20",
   "metadata": {},
   "outputs": [
    {
     "name": "stdout",
     "output_type": "stream",
     "text": [
      "2/2 [==============================] - 1s 6ms/step\n"
     ]
    }
   ],
   "source": [
    "predict2 = model2.predict(X_test)\n",
    "normal_price2 = scaller.inverse_transform(predict2)"
   ]
  },
  {
   "cell_type": "code",
   "execution_count": 40,
   "id": "fb1d2bd1",
   "metadata": {},
   "outputs": [
    {
     "data": {
      "image/png": "[encoded data removed]",
      "text/plain": [
       "<Figure size 640x320 with 1 Axes>"
      ]
     },
     "metadata": {},
     "output_type": "display_data"
    }
   ],
   "source": [
    "plt.figure(figsize=(8,4), dpi=80, facecolor='w', edgecolor='k')\n",
    "plt.plot(test,color=\"orange\",label=\"Real value\")\n",
    "plt.plot(normal_price2,color=\"c\",label=\"LSTM Modified predicted result\")\n",
    "plt.legend()\n",
    "plt.xlabel(\"Days\")\n",
    "plt.ylabel(\"Values\")\n",
    "plt.grid(True)\n",
    "plt.show()"
   ]
  },
  {
   "cell_type": "code",
   "execution_count": 41,
   "id": "c67d55a6",
   "metadata": {},
   "outputs": [
    {
     "data": {
      "text/plain": [
       "0.8260650342485247"
      ]
     },
     "execution_count": 41,
     "metadata": {},
     "output_type": "execute_result"
    }
   ],
   "source": [
    "r2_score(test,normal_price2)"
   ]
  },
  {
   "cell_type": "code",
   "execution_count": 42,
   "id": "b71612c4",
   "metadata": {},
   "outputs": [],
   "source": [
    "model3 = Sequential()\n",
    "model3.add(LSTM(12, activation='tanh',input_shape=(X_train.shape[1],1),return_sequences=True))\n",
    "model3.add(LSTM(8, activation='tanh',return_sequences=False))\n",
    "model3.add(Dense(1))\n",
    "model3.compile(optimizer='adam',loss='mean_squared_error')"
   ]
  },
  {
   "cell_type": "code",
   "execution_count": 43,
   "id": "c972c835",
   "metadata": {},
   "outputs": [
    {
     "name": "stdout",
     "output_type": "stream",
     "text": [
      "Epoch 1/150\n",
      "51/51 [==============================] - 4s 23ms/step - loss: 0.0251\n",
      "Epoch 2/150\n",
      "51/51 [==============================] - 1s 23ms/step - loss: 0.0030\n",
      "Epoch 3/150\n",
      "51/51 [==============================] - 1s 23ms/step - loss: 0.0020\n",
      "Epoch 4/150\n",
      "51/51 [==============================] - 1s 23ms/step - loss: 0.0017\n",
      "Epoch 5/150\n",
      "51/51 [==============================] - 1s 23ms/step - loss: 0.0016\n",
      "Epoch 6/150\n",
      "51/51 [==============================] - 1s 23ms/step - loss: 0.0015\n",
      "Epoch 7/150\n",
      "51/51 [==============================] - 1s 23ms/step - loss: 0.0014\n",
      "Epoch 8/150\n",
      "51/51 [==============================] - 1s 23ms/step - loss: 0.0014\n",
      "Epoch 9/150\n",
      "51/51 [==============================] - 1s 23ms/step - loss: 0.0014\n",
      "Epoch 10/150\n",
      "51/51 [==============================] - 1s 23ms/step - loss: 0.0014\n",
      "Epoch 11/150\n",
      "51/51 [==============================] - 1s 23ms/step - loss: 0.0013\n",
      "Epoch 12/150\n",
      "51/51 [==============================] - 1s 23ms/step - loss: 0.0012\n",
      "Epoch 13/150\n",
      "51/51 [==============================] - 1s 24ms/step - loss: 0.0011\n",
      "Epoch 14/150\n",
      "51/51 [==============================] - 1s 23ms/step - loss: 0.0011\n",
      "Epoch 15/150\n",
      "51/51 [==============================] - 1s 23ms/step - loss: 0.0011\n",
      "Epoch 16/150\n",
      "51/51 [==============================] - 1s 23ms/step - loss: 0.0011\n",
      "Epoch 17/150\n",
      "51/51 [==============================] - 1s 23ms/step - loss: 9.8548e-04\n",
      "Epoch 18/150\n",
      "51/51 [==============================] - 1s 23ms/step - loss: 9.6848e-04\n",
      "Epoch 19/150\n",
      "51/51 [==============================] - 1s 23ms/step - loss: 9.4064e-04\n",
      "Epoch 20/150\n",
      "51/51 [==============================] - 1s 23ms/step - loss: 9.3581e-04\n",
      "Epoch 21/150\n",
      "51/51 [==============================] - 1s 24ms/step - loss: 8.9391e-04\n",
      "Epoch 22/150\n",
      "51/51 [==============================] - 1s 23ms/step - loss: 8.4984e-04\n",
      "Epoch 23/150\n",
      "51/51 [==============================] - 1s 23ms/step - loss: 8.2126e-04\n",
      "Epoch 24/150\n",
      "51/51 [==============================] - 1s 23ms/step - loss: 7.9192e-04\n",
      "Epoch 25/150\n",
      "51/51 [==============================] - 1s 23ms/step - loss: 7.5174e-04\n",
      "Epoch 26/150\n",
      "51/51 [==============================] - 1s 23ms/step - loss: 7.5614e-04\n",
      "Epoch 27/150\n",
      "51/51 [==============================] - 1s 23ms/step - loss: 7.2043e-04\n",
      "Epoch 28/150\n",
      "51/51 [==============================] - 1s 23ms/step - loss: 6.8515e-04\n",
      "Epoch 29/150\n",
      "51/51 [==============================] - 1s 23ms/step - loss: 6.6714e-04\n",
      "Epoch 30/150\n",
      "51/51 [==============================] - 1s 23ms/step - loss: 6.9172e-04\n",
      "Epoch 31/150\n",
      "51/51 [==============================] - 1s 23ms/step - loss: 6.5739e-04\n",
      "Epoch 32/150\n",
      "51/51 [==============================] - 1s 23ms/step - loss: 6.4562e-04\n",
      "Epoch 33/150\n",
      "51/51 [==============================] - 1s 23ms/step - loss: 6.3007e-04\n",
      "Epoch 34/150\n",
      "51/51 [==============================] - 1s 23ms/step - loss: 6.2854e-04\n",
      "Epoch 35/150\n",
      "51/51 [==============================] - 1s 23ms/step - loss: 6.0908e-04\n",
      "Epoch 36/150\n",
      "51/51 [==============================] - 1s 23ms/step - loss: 5.8747e-04\n",
      "Epoch 37/150\n",
      "51/51 [==============================] - 1s 23ms/step - loss: 6.0056e-04\n",
      "Epoch 38/150\n",
      "51/51 [==============================] - 1s 23ms/step - loss: 5.7982e-04\n",
      "Epoch 39/150\n",
      "51/51 [==============================] - 1s 23ms/step - loss: 5.6731e-04\n",
      "Epoch 40/150\n",
      "51/51 [==============================] - 1s 23ms/step - loss: 5.4211e-04\n",
      "Epoch 41/150\n",
      "51/51 [==============================] - 1s 23ms/step - loss: 5.4640e-04\n",
      "Epoch 42/150\n",
      "51/51 [==============================] - 1s 23ms/step - loss: 5.2440e-04\n",
      "Epoch 43/150\n",
      "51/51 [==============================] - 1s 23ms/step - loss: 5.1349e-04\n",
      "Epoch 44/150\n",
      "51/51 [==============================] - 1s 23ms/step - loss: 5.2646e-04\n",
      "Epoch 45/150\n",
      "51/51 [==============================] - 1s 23ms/step - loss: 4.9528e-04\n",
      "Epoch 46/150\n",
      "51/51 [==============================] - 1s 23ms/step - loss: 4.9880e-04\n",
      "Epoch 47/150\n",
      "51/51 [==============================] - 1s 23ms/step - loss: 4.9117e-04\n",
      "Epoch 48/150\n",
      "51/51 [==============================] - 1s 23ms/step - loss: 4.7462e-04\n",
      "Epoch 49/150\n",
      "51/51 [==============================] - 1s 23ms/step - loss: 4.6096e-04\n",
      "Epoch 50/150\n",
      "51/51 [==============================] - 1s 23ms/step - loss: 4.8121e-04\n",
      "Epoch 51/150\n",
      "51/51 [==============================] - 1s 23ms/step - loss: 4.5196e-04\n",
      "Epoch 52/150\n",
      "51/51 [==============================] - 1s 23ms/step - loss: 4.4863e-04\n",
      "Epoch 53/150\n",
      "51/51 [==============================] - 1s 23ms/step - loss: 4.4910e-04\n",
      "Epoch 54/150\n",
      "51/51 [==============================] - 1s 23ms/step - loss: 4.6882e-04\n",
      "Epoch 55/150\n",
      "51/51 [==============================] - 1s 23ms/step - loss: 4.5313e-04\n",
      "Epoch 56/150\n",
      "51/51 [==============================] - 1s 23ms/step - loss: 4.2095e-04\n",
      "Epoch 57/150\n",
      "51/51 [==============================] - 1s 23ms/step - loss: 4.2350e-04\n",
      "Epoch 58/150\n",
      "51/51 [==============================] - 1s 23ms/step - loss: 4.1311e-04\n",
      "Epoch 59/150\n",
      "51/51 [==============================] - 1s 23ms/step - loss: 4.0387e-04\n",
      "Epoch 60/150\n",
      "51/51 [==============================] - 1s 23ms/step - loss: 4.0829e-04\n",
      "Epoch 61/150\n",
      "51/51 [==============================] - 1s 23ms/step - loss: 3.8817e-04\n",
      "Epoch 62/150\n",
      "51/51 [==============================] - 1s 23ms/step - loss: 3.8069e-04\n",
      "Epoch 63/150\n",
      "51/51 [==============================] - 1s 23ms/step - loss: 4.0221e-04\n",
      "Epoch 64/150\n",
      "51/51 [==============================] - 1s 23ms/step - loss: 3.7718e-04\n",
      "Epoch 65/150\n",
      "51/51 [==============================] - 1s 23ms/step - loss: 3.6940e-04\n",
      "Epoch 66/150\n",
      "51/51 [==============================] - 1s 23ms/step - loss: 3.5822e-04\n",
      "Epoch 67/150\n",
      "51/51 [==============================] - 1s 23ms/step - loss: 3.9580e-04\n",
      "Epoch 68/150\n",
      "51/51 [==============================] - 1s 23ms/step - loss: 3.7157e-04\n",
      "Epoch 69/150\n",
      "51/51 [==============================] - 1s 23ms/step - loss: 3.8603e-04\n",
      "Epoch 70/150\n",
      "51/51 [==============================] - 1s 23ms/step - loss: 4.1311e-04\n",
      "Epoch 71/150\n",
      "51/51 [==============================] - 1s 23ms/step - loss: 3.3579e-04\n",
      "Epoch 72/150\n",
      "51/51 [==============================] - 1s 23ms/step - loss: 3.3645e-04\n",
      "Epoch 73/150\n",
      "51/51 [==============================] - 1s 23ms/step - loss: 3.4844e-04\n",
      "Epoch 74/150\n",
      "51/51 [==============================] - 1s 23ms/step - loss: 3.3816e-04\n",
      "Epoch 75/150\n",
      "51/51 [==============================] - 1s 23ms/step - loss: 3.5176e-04\n",
      "Epoch 76/150\n",
      "51/51 [==============================] - 1s 23ms/step - loss: 3.4939e-04\n",
      "Epoch 77/150\n",
      "51/51 [==============================] - 1s 23ms/step - loss: 3.2673e-04\n",
      "Epoch 78/150\n",
      "51/51 [==============================] - 1s 23ms/step - loss: 3.3806e-04\n",
      "Epoch 79/150\n",
      "51/51 [==============================] - 1s 24ms/step - loss: 3.5602e-04\n",
      "Epoch 80/150\n",
      "51/51 [==============================] - 1s 24ms/step - loss: 3.4226e-04\n",
      "Epoch 81/150\n",
      "51/51 [==============================] - 1s 25ms/step - loss: 3.4083e-04\n",
      "Epoch 82/150\n",
      "51/51 [==============================] - 1s 25ms/step - loss: 3.2224e-04\n",
      "Epoch 83/150\n",
      "51/51 [==============================] - 1s 24ms/step - loss: 3.2262e-04\n",
      "Epoch 84/150\n",
      "51/51 [==============================] - 1s 24ms/step - loss: 3.1022e-04\n",
      "Epoch 85/150\n",
      "51/51 [==============================] - 1s 24ms/step - loss: 3.3149e-04\n",
      "Epoch 86/150\n",
      "51/51 [==============================] - 1s 24ms/step - loss: 3.1662e-04\n",
      "Epoch 87/150\n",
      "51/51 [==============================] - 1s 23ms/step - loss: 3.3012e-04\n",
      "Epoch 88/150\n",
      "51/51 [==============================] - 1s 23ms/step - loss: 3.0553e-04\n",
      "Epoch 89/150\n",
      "51/51 [==============================] - 1s 23ms/step - loss: 3.2185e-04\n",
      "Epoch 90/150\n",
      "51/51 [==============================] - 1s 23ms/step - loss: 3.3208e-04\n",
      "Epoch 91/150\n",
      "51/51 [==============================] - 1s 23ms/step - loss: 3.3560e-04\n",
      "Epoch 92/150\n",
      "51/51 [==============================] - 1s 23ms/step - loss: 3.1405e-04\n",
      "Epoch 93/150\n",
      "51/51 [==============================] - 1s 25ms/step - loss: 3.0360e-04\n",
      "Epoch 94/150\n",
      "51/51 [==============================] - 1s 23ms/step - loss: 3.2020e-04\n",
      "Epoch 95/150\n",
      "51/51 [==============================] - 1s 24ms/step - loss: 3.5163e-04\n",
      "Epoch 96/150\n",
      "51/51 [==============================] - 1s 23ms/step - loss: 3.0317e-04\n",
      "Epoch 97/150\n"
     ]
    },
    {
     "name": "stdout",
     "output_type": "stream",
     "text": [
      "51/51 [==============================] - 1s 24ms/step - loss: 3.2105e-04\n",
      "Epoch 98/150\n",
      "51/51 [==============================] - 1s 23ms/step - loss: 3.1707e-04\n",
      "Epoch 99/150\n",
      "51/51 [==============================] - 1s 24ms/step - loss: 3.1411e-04\n",
      "Epoch 100/150\n",
      "51/51 [==============================] - 1s 23ms/step - loss: 3.0883e-04\n",
      "Epoch 101/150\n",
      "51/51 [==============================] - 1s 23ms/step - loss: 3.0219e-04\n",
      "Epoch 102/150\n",
      "51/51 [==============================] - 1s 25ms/step - loss: 3.0445e-04\n",
      "Epoch 103/150\n",
      "51/51 [==============================] - 1s 23ms/step - loss: 3.1227e-04\n",
      "Epoch 104/150\n",
      "51/51 [==============================] - 1s 23ms/step - loss: 3.1249e-04\n",
      "Epoch 105/150\n",
      "51/51 [==============================] - 1s 23ms/step - loss: 3.0964e-04\n",
      "Epoch 106/150\n",
      "51/51 [==============================] - 1s 23ms/step - loss: 3.0977e-04\n",
      "Epoch 107/150\n",
      "51/51 [==============================] - 1s 23ms/step - loss: 3.0940e-04\n",
      "Epoch 108/150\n",
      "51/51 [==============================] - 1s 23ms/step - loss: 3.1008e-04\n",
      "Epoch 109/150\n",
      "51/51 [==============================] - 1s 23ms/step - loss: 3.1106e-04\n",
      "Epoch 110/150\n",
      "51/51 [==============================] - 1s 23ms/step - loss: 2.9601e-04\n",
      "Epoch 111/150\n",
      "51/51 [==============================] - 1s 23ms/step - loss: 2.8921e-04\n",
      "Epoch 112/150\n",
      "51/51 [==============================] - 1s 24ms/step - loss: 2.9796e-04\n",
      "Epoch 113/150\n",
      "51/51 [==============================] - 1s 24ms/step - loss: 3.0875e-04\n",
      "Epoch 114/150\n",
      "51/51 [==============================] - 1s 24ms/step - loss: 3.2046e-04\n",
      "Epoch 115/150\n",
      "51/51 [==============================] - 1s 23ms/step - loss: 3.1771e-04\n",
      "Epoch 116/150\n",
      "51/51 [==============================] - 1s 23ms/step - loss: 3.1173e-04\n",
      "Epoch 117/150\n",
      "51/51 [==============================] - 1s 23ms/step - loss: 3.1084e-04\n",
      "Epoch 118/150\n",
      "51/51 [==============================] - 1s 24ms/step - loss: 2.9817e-04\n",
      "Epoch 119/150\n",
      "51/51 [==============================] - 1s 24ms/step - loss: 3.0861e-04\n",
      "Epoch 120/150\n",
      "51/51 [==============================] - 1s 23ms/step - loss: 3.1808e-04\n",
      "Epoch 121/150\n",
      "51/51 [==============================] - 1s 24ms/step - loss: 3.1582e-04\n",
      "Epoch 122/150\n",
      "51/51 [==============================] - 1s 24ms/step - loss: 2.9520e-04\n",
      "Epoch 123/150\n",
      "51/51 [==============================] - 1s 23ms/step - loss: 3.0529e-04\n",
      "Epoch 124/150\n",
      "51/51 [==============================] - 1s 23ms/step - loss: 2.9339e-04\n",
      "Epoch 125/150\n",
      "51/51 [==============================] - 1s 23ms/step - loss: 3.1072e-04\n",
      "Epoch 126/150\n",
      "51/51 [==============================] - 1s 23ms/step - loss: 3.0730e-04\n",
      "Epoch 127/150\n",
      "51/51 [==============================] - 1s 23ms/step - loss: 2.9666e-04\n",
      "Epoch 128/150\n",
      "51/51 [==============================] - 1s 23ms/step - loss: 2.9269e-04\n",
      "Epoch 129/150\n",
      "51/51 [==============================] - 1s 23ms/step - loss: 3.0861e-04\n",
      "Epoch 130/150\n",
      "51/51 [==============================] - 1s 23ms/step - loss: 3.0564e-04\n",
      "Epoch 131/150\n",
      "51/51 [==============================] - 1s 23ms/step - loss: 3.2928e-04\n",
      "Epoch 132/150\n",
      "51/51 [==============================] - 1s 23ms/step - loss: 3.0021e-04\n",
      "Epoch 133/150\n",
      "51/51 [==============================] - 1s 23ms/step - loss: 3.0332e-04\n",
      "Epoch 134/150\n",
      "51/51 [==============================] - 1s 23ms/step - loss: 3.0345e-04\n",
      "Epoch 135/150\n",
      "51/51 [==============================] - 1s 24ms/step - loss: 2.9686e-04\n",
      "Epoch 136/150\n",
      "51/51 [==============================] - 1s 23ms/step - loss: 2.9649e-04\n",
      "Epoch 137/150\n",
      "51/51 [==============================] - 1s 23ms/step - loss: 3.3572e-04\n",
      "Epoch 138/150\n",
      "51/51 [==============================] - 1s 23ms/step - loss: 3.0673e-04\n",
      "Epoch 139/150\n",
      "51/51 [==============================] - 1s 24ms/step - loss: 3.0450e-04\n",
      "Epoch 140/150\n",
      "51/51 [==============================] - 1s 23ms/step - loss: 3.3907e-04\n",
      "Epoch 141/150\n",
      "51/51 [==============================] - 1s 23ms/step - loss: 3.1308e-04\n",
      "Epoch 142/150\n",
      "51/51 [==============================] - 1s 23ms/step - loss: 2.9482e-04\n",
      "Epoch 143/150\n",
      "51/51 [==============================] - 1s 23ms/step - loss: 3.4400e-04\n",
      "Epoch 144/150\n",
      "51/51 [==============================] - 1s 23ms/step - loss: 3.1816e-04\n",
      "Epoch 145/150\n",
      "51/51 [==============================] - 1s 23ms/step - loss: 3.0014e-04\n",
      "Epoch 146/150\n",
      "51/51 [==============================] - 1s 23ms/step - loss: 3.2234e-04\n",
      "Epoch 147/150\n",
      "51/51 [==============================] - 1s 23ms/step - loss: 2.9997e-04\n",
      "Epoch 148/150\n",
      "51/51 [==============================] - 1s 23ms/step - loss: 3.0580e-04\n",
      "Epoch 149/150\n",
      "51/51 [==============================] - 1s 23ms/step - loss: 3.1419e-04\n",
      "Epoch 150/150\n",
      "51/51 [==============================] - 1s 23ms/step - loss: 2.9006e-04\n"
     ]
    },
    {
     "data": {
      "text/plain": [
       "<keras.callbacks.History at 0x23ef68bae50>"
      ]
     },
     "execution_count": 43,
     "metadata": {},
     "output_type": "execute_result"
    }
   ],
   "source": [
    "model3.fit(X_train,y_train,batch_size=32,epochs=150)"
   ]
  },
  {
   "cell_type": "code",
   "execution_count": 44,
   "id": "4214d25d",
   "metadata": {},
   "outputs": [
    {
     "name": "stdout",
     "output_type": "stream",
     "text": [
      "2/2 [==============================] - 1s 5ms/step\n"
     ]
    }
   ],
   "source": [
    "predict3 = model3.predict(X_test)\n",
    "normal_price3 = scaller.inverse_transform(predict3)"
   ]
  },
  {
   "cell_type": "code",
   "execution_count": 47,
   "id": "cda0b5b4",
   "metadata": {},
   "outputs": [
    {
     "data": {
      "image/png": "[encoded data removed]",
      "text/plain": [
       "<Figure size 640x320 with 1 Axes>"
      ]
     },
     "metadata": {},
     "output_type": "display_data"
    }
   ],
   "source": [
    "plt.figure(figsize=(8,4), dpi=80, facecolor='w', edgecolor='k')\n",
    "plt.plot(test,color=\"orange\",label=\"Real value\")\n",
    "plt.plot(normal_price3,color=\"c\",label=\"LSTM Modified 2 predicted result\")\n",
    "plt.legend()\n",
    "plt.xlabel(\"Days\")\n",
    "plt.ylabel(\"Values\")\n",
    "plt.grid(True)\n",
    "plt.show()"
   ]
  },
  {
   "cell_type": "code",
   "execution_count": 46,
   "id": "fe65ab03",
   "metadata": {},
   "outputs": [
    {
     "data": {
      "text/plain": [
       "0.863137880742269"
      ]
     },
     "execution_count": 46,
     "metadata": {},
     "output_type": "execute_result"
    }
   ],
   "source": [
    "r2_score(test,normal_price3)"
   ]
  },
  {
   "cell_type": "code",
   "execution_count": 48,
   "id": "9e6cf836",
   "metadata": {},
   "outputs": [
    {
     "data": {
      "image/png": "[encoded data removed]",
      "text/plain": [
       "<Figure size 640x320 with 1 Axes>"
      ]
     },
     "metadata": {},
     "output_type": "display_data"
    }
   ],
   "source": [
    "plt.figure(figsize=(8,4), dpi=80, facecolor='w', edgecolor='k')\n",
    "plt.plot(test,color=\"orange\",label=\"Real value\")\n",
    "plt.plot(normal_price,color=\"green\",label=\"LSTM  predicted result\")\n",
    "plt.plot(normal_price2,color=\"red\",label=\"LSTM Modified 1 predicted result\")\n",
    "plt.plot(normal_price3,color=\"blue\",label=\"LSTM Modified 2 predicted result\")\n",
    "plt.legend()\n",
    "plt.xlabel(\"Days\")\n",
    "plt.ylabel(\"Values\")\n",
    "plt.grid(True)\n",
    "plt.show()"
   ]
  },
  {
   "cell_type": "code",
   "execution_count": null,
   "id": "8702c2af",
   "metadata": {},
   "outputs": [],
   "source": []
  }
 ],
 "metadata": {
  "kernelspec": {
   "display_name": "Python 3 (ipykernel)",
   "language": "python",
   "name": "python3"
  },
  "language_info": {
   "codemirror_mode": {
    "name": "ipython",
    "version": 3
   },
   "file_extension": ".py",
   "mimetype": "text/x-python",
   "name": "python",
   "nbconvert_exporter": "python",
   "pygments_lexer": "ipython3",
   "version": "3.9.12"
  }
 },
 "nbformat": 4,
 "nbformat_minor": 5
}

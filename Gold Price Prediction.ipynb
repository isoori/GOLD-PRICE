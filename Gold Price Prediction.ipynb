{
 "cells": [
  {
   "cell_type": "code",
   "execution_count": 24,
   "id": "66d664c0",
   "metadata": {},
   "outputs": [],
   "source": [
    "import pandas as pd\n",
    "import numpy as np\n",
    "import matplotlib.pyplot as plt\n",
    "\n",
    "from sklearn.metrics import r2_score\n",
    "from sklearn.preprocessing import MinMaxScaler\n",
    "\n",
    "from keras.layers import Dense,LSTM,SimpleRNN,Dropout\n",
    "from keras.models import Sequential\n"
   ]
  },
  {
   "cell_type": "code",
   "execution_count": 2,
   "id": "87871e42",
   "metadata": {},
   "outputs": [
    {
     "data": {
      "text/html": [
       "<div>\n",
       "<style scoped>\n",
       "    .dataframe tbody tr th:only-of-type {\n",
       "        vertical-align: middle;\n",
       "    }\n",
       "\n",
       "    .dataframe tbody tr th {\n",
       "        vertical-align: top;\n",
       "    }\n",
       "\n",
       "    .dataframe thead th {\n",
       "        text-align: right;\n",
       "    }\n",
       "</style>\n",
       "<table border=\"1\" class=\"dataframe\">\n",
       "  <thead>\n",
       "    <tr style=\"text-align: right;\">\n",
       "      <th></th>\n",
       "      <th>Date</th>\n",
       "      <th>Open</th>\n",
       "      <th>High</th>\n",
       "      <th>Low</th>\n",
       "      <th>Close</th>\n",
       "      <th>Adj Close</th>\n",
       "      <th>Volume</th>\n",
       "      <th>SP_open</th>\n",
       "      <th>SP_high</th>\n",
       "      <th>SP_low</th>\n",
       "      <th>...</th>\n",
       "      <th>GDX_Low</th>\n",
       "      <th>GDX_Close</th>\n",
       "      <th>GDX_Adj Close</th>\n",
       "      <th>GDX_Volume</th>\n",
       "      <th>USO_Open</th>\n",
       "      <th>USO_High</th>\n",
       "      <th>USO_Low</th>\n",
       "      <th>USO_Close</th>\n",
       "      <th>USO_Adj Close</th>\n",
       "      <th>USO_Volume</th>\n",
       "    </tr>\n",
       "  </thead>\n",
       "  <tbody>\n",
       "    <tr>\n",
       "      <th>0</th>\n",
       "      <td>2011-12-15</td>\n",
       "      <td>154.740005</td>\n",
       "      <td>154.949997</td>\n",
       "      <td>151.710007</td>\n",
       "      <td>152.330002</td>\n",
       "      <td>152.330002</td>\n",
       "      <td>21521900</td>\n",
       "      <td>123.029999</td>\n",
       "      <td>123.199997</td>\n",
       "      <td>121.989998</td>\n",
       "      <td>...</td>\n",
       "      <td>51.570000</td>\n",
       "      <td>51.680000</td>\n",
       "      <td>48.973877</td>\n",
       "      <td>20605600</td>\n",
       "      <td>36.900002</td>\n",
       "      <td>36.939999</td>\n",
       "      <td>36.049999</td>\n",
       "      <td>36.130001</td>\n",
       "      <td>36.130001</td>\n",
       "      <td>12616700</td>\n",
       "    </tr>\n",
       "    <tr>\n",
       "      <th>1</th>\n",
       "      <td>2011-12-16</td>\n",
       "      <td>154.309998</td>\n",
       "      <td>155.369995</td>\n",
       "      <td>153.899994</td>\n",
       "      <td>155.229996</td>\n",
       "      <td>155.229996</td>\n",
       "      <td>18124300</td>\n",
       "      <td>122.230003</td>\n",
       "      <td>122.949997</td>\n",
       "      <td>121.300003</td>\n",
       "      <td>...</td>\n",
       "      <td>52.040001</td>\n",
       "      <td>52.680000</td>\n",
       "      <td>49.921513</td>\n",
       "      <td>16285400</td>\n",
       "      <td>36.180000</td>\n",
       "      <td>36.500000</td>\n",
       "      <td>35.730000</td>\n",
       "      <td>36.270000</td>\n",
       "      <td>36.270000</td>\n",
       "      <td>12578800</td>\n",
       "    </tr>\n",
       "    <tr>\n",
       "      <th>2</th>\n",
       "      <td>2011-12-19</td>\n",
       "      <td>155.479996</td>\n",
       "      <td>155.860001</td>\n",
       "      <td>154.360001</td>\n",
       "      <td>154.869995</td>\n",
       "      <td>154.869995</td>\n",
       "      <td>12547200</td>\n",
       "      <td>122.059998</td>\n",
       "      <td>122.320000</td>\n",
       "      <td>120.029999</td>\n",
       "      <td>...</td>\n",
       "      <td>51.029999</td>\n",
       "      <td>51.169998</td>\n",
       "      <td>48.490578</td>\n",
       "      <td>15120200</td>\n",
       "      <td>36.389999</td>\n",
       "      <td>36.450001</td>\n",
       "      <td>35.930000</td>\n",
       "      <td>36.200001</td>\n",
       "      <td>36.200001</td>\n",
       "      <td>7418200</td>\n",
       "    </tr>\n",
       "    <tr>\n",
       "      <th>3</th>\n",
       "      <td>2011-12-20</td>\n",
       "      <td>156.820007</td>\n",
       "      <td>157.429993</td>\n",
       "      <td>156.580002</td>\n",
       "      <td>156.979996</td>\n",
       "      <td>156.979996</td>\n",
       "      <td>9136300</td>\n",
       "      <td>122.180000</td>\n",
       "      <td>124.139999</td>\n",
       "      <td>120.370003</td>\n",
       "      <td>...</td>\n",
       "      <td>52.369999</td>\n",
       "      <td>52.990002</td>\n",
       "      <td>50.215282</td>\n",
       "      <td>11644900</td>\n",
       "      <td>37.299999</td>\n",
       "      <td>37.610001</td>\n",
       "      <td>37.220001</td>\n",
       "      <td>37.560001</td>\n",
       "      <td>37.560001</td>\n",
       "      <td>10041600</td>\n",
       "    </tr>\n",
       "    <tr>\n",
       "      <th>4</th>\n",
       "      <td>2011-12-21</td>\n",
       "      <td>156.979996</td>\n",
       "      <td>157.529999</td>\n",
       "      <td>156.130005</td>\n",
       "      <td>157.160004</td>\n",
       "      <td>157.160004</td>\n",
       "      <td>11996100</td>\n",
       "      <td>123.930000</td>\n",
       "      <td>124.360001</td>\n",
       "      <td>122.750000</td>\n",
       "      <td>...</td>\n",
       "      <td>52.419998</td>\n",
       "      <td>52.959999</td>\n",
       "      <td>50.186852</td>\n",
       "      <td>8724300</td>\n",
       "      <td>37.669998</td>\n",
       "      <td>38.240002</td>\n",
       "      <td>37.520000</td>\n",
       "      <td>38.110001</td>\n",
       "      <td>38.110001</td>\n",
       "      <td>10728000</td>\n",
       "    </tr>\n",
       "  </tbody>\n",
       "</table>\n",
       "<p>5 rows × 81 columns</p>\n",
       "</div>"
      ],
      "text/plain": [
       "         Date        Open        High         Low       Close   Adj Close  \\\n",
       "0  2011-12-15  154.740005  154.949997  151.710007  152.330002  152.330002   \n",
       "1  2011-12-16  154.309998  155.369995  153.899994  155.229996  155.229996   \n",
       "2  2011-12-19  155.479996  155.860001  154.360001  154.869995  154.869995   \n",
       "3  2011-12-20  156.820007  157.429993  156.580002  156.979996  156.979996   \n",
       "4  2011-12-21  156.979996  157.529999  156.130005  157.160004  157.160004   \n",
       "\n",
       "     Volume     SP_open     SP_high      SP_low  ...    GDX_Low  GDX_Close  \\\n",
       "0  21521900  123.029999  123.199997  121.989998  ...  51.570000  51.680000   \n",
       "1  18124300  122.230003  122.949997  121.300003  ...  52.040001  52.680000   \n",
       "2  12547200  122.059998  122.320000  120.029999  ...  51.029999  51.169998   \n",
       "3   9136300  122.180000  124.139999  120.370003  ...  52.369999  52.990002   \n",
       "4  11996100  123.930000  124.360001  122.750000  ...  52.419998  52.959999   \n",
       "\n",
       "   GDX_Adj Close  GDX_Volume   USO_Open   USO_High    USO_Low  USO_Close  \\\n",
       "0      48.973877    20605600  36.900002  36.939999  36.049999  36.130001   \n",
       "1      49.921513    16285400  36.180000  36.500000  35.730000  36.270000   \n",
       "2      48.490578    15120200  36.389999  36.450001  35.930000  36.200001   \n",
       "3      50.215282    11644900  37.299999  37.610001  37.220001  37.560001   \n",
       "4      50.186852     8724300  37.669998  38.240002  37.520000  38.110001   \n",
       "\n",
       "   USO_Adj Close  USO_Volume  \n",
       "0      36.130001    12616700  \n",
       "1      36.270000    12578800  \n",
       "2      36.200001     7418200  \n",
       "3      37.560001    10041600  \n",
       "4      38.110001    10728000  \n",
       "\n",
       "[5 rows x 81 columns]"
      ]
     },
     "execution_count": 2,
     "metadata": {},
     "output_type": "execute_result"
    }
   ],
   "source": [
    "df = pd.read_csv('FINAL_USO.csv')\n",
    "df.head()"
   ]
  },
  {
   "cell_type": "code",
   "execution_count": 3,
   "id": "35f42676",
   "metadata": {},
   "outputs": [
    {
     "data": {
      "text/plain": [
       "Index(['Date', 'Open', 'High', 'Low', 'Close', 'Adj Close', 'Volume',\n",
       "       'SP_open', 'SP_high', 'SP_low', 'SP_close', 'SP_Ajclose', 'SP_volume',\n",
       "       'DJ_open', 'DJ_high', 'DJ_low', 'DJ_close', 'DJ_Ajclose', 'DJ_volume',\n",
       "       'EG_open', 'EG_high', 'EG_low', 'EG_close', 'EG_Ajclose', 'EG_volume',\n",
       "       'EU_Price', 'EU_open', 'EU_high', 'EU_low', 'EU_Trend', 'OF_Price',\n",
       "       'OF_Open', 'OF_High', 'OF_Low', 'OF_Volume', 'OF_Trend', 'OS_Price',\n",
       "       'OS_Open', 'OS_High', 'OS_Low', 'OS_Trend', 'SF_Price', 'SF_Open',\n",
       "       'SF_High', 'SF_Low', 'SF_Volume', 'SF_Trend', 'USB_Price', 'USB_Open',\n",
       "       'USB_High', 'USB_Low', 'USB_Trend', 'PLT_Price', 'PLT_Open', 'PLT_High',\n",
       "       'PLT_Low', 'PLT_Trend', 'PLD_Price', 'PLD_Open', 'PLD_High', 'PLD_Low',\n",
       "       'PLD_Trend', 'RHO_PRICE', 'USDI_Price', 'USDI_Open', 'USDI_High',\n",
       "       'USDI_Low', 'USDI_Volume', 'USDI_Trend', 'GDX_Open', 'GDX_High',\n",
       "       'GDX_Low', 'GDX_Close', 'GDX_Adj Close', 'GDX_Volume', 'USO_Open',\n",
       "       'USO_High', 'USO_Low', 'USO_Close', 'USO_Adj Close', 'USO_Volume'],\n",
       "      dtype='object')"
      ]
     },
     "execution_count": 3,
     "metadata": {},
     "output_type": "execute_result"
    }
   ],
   "source": [
    "df.columns"
   ]
  },
  {
   "cell_type": "code",
   "execution_count": 4,
   "id": "fe37da39",
   "metadata": {},
   "outputs": [],
   "source": [
    "gold_data = df.loc[:,['Date', 'Open', 'High', 'Low', 'Close', 'Adj Close', 'Volume']]"
   ]
  },
  {
   "cell_type": "code",
   "execution_count": 5,
   "id": "6a1b9ba4",
   "metadata": {},
   "outputs": [
    {
     "data": {
      "text/html": [
       "<div>\n",
       "<style scoped>\n",
       "    .dataframe tbody tr th:only-of-type {\n",
       "        vertical-align: middle;\n",
       "    }\n",
       "\n",
       "    .dataframe tbody tr th {\n",
       "        vertical-align: top;\n",
       "    }\n",
       "\n",
       "    .dataframe thead th {\n",
       "        text-align: right;\n",
       "    }\n",
       "</style>\n",
       "<table border=\"1\" class=\"dataframe\">\n",
       "  <thead>\n",
       "    <tr style=\"text-align: right;\">\n",
       "      <th></th>\n",
       "      <th>Date</th>\n",
       "      <th>Open</th>\n",
       "      <th>High</th>\n",
       "      <th>Low</th>\n",
       "      <th>Close</th>\n",
       "      <th>Adj Close</th>\n",
       "      <th>Volume</th>\n",
       "    </tr>\n",
       "  </thead>\n",
       "  <tbody>\n",
       "    <tr>\n",
       "      <th>0</th>\n",
       "      <td>2011-12-15</td>\n",
       "      <td>154.740005</td>\n",
       "      <td>154.949997</td>\n",
       "      <td>151.710007</td>\n",
       "      <td>152.330002</td>\n",
       "      <td>152.330002</td>\n",
       "      <td>21521900</td>\n",
       "    </tr>\n",
       "    <tr>\n",
       "      <th>1</th>\n",
       "      <td>2011-12-16</td>\n",
       "      <td>154.309998</td>\n",
       "      <td>155.369995</td>\n",
       "      <td>153.899994</td>\n",
       "      <td>155.229996</td>\n",
       "      <td>155.229996</td>\n",
       "      <td>18124300</td>\n",
       "    </tr>\n",
       "    <tr>\n",
       "      <th>2</th>\n",
       "      <td>2011-12-19</td>\n",
       "      <td>155.479996</td>\n",
       "      <td>155.860001</td>\n",
       "      <td>154.360001</td>\n",
       "      <td>154.869995</td>\n",
       "      <td>154.869995</td>\n",
       "      <td>12547200</td>\n",
       "    </tr>\n",
       "    <tr>\n",
       "      <th>3</th>\n",
       "      <td>2011-12-20</td>\n",
       "      <td>156.820007</td>\n",
       "      <td>157.429993</td>\n",
       "      <td>156.580002</td>\n",
       "      <td>156.979996</td>\n",
       "      <td>156.979996</td>\n",
       "      <td>9136300</td>\n",
       "    </tr>\n",
       "    <tr>\n",
       "      <th>4</th>\n",
       "      <td>2011-12-21</td>\n",
       "      <td>156.979996</td>\n",
       "      <td>157.529999</td>\n",
       "      <td>156.130005</td>\n",
       "      <td>157.160004</td>\n",
       "      <td>157.160004</td>\n",
       "      <td>11996100</td>\n",
       "    </tr>\n",
       "  </tbody>\n",
       "</table>\n",
       "</div>"
      ],
      "text/plain": [
       "         Date        Open        High         Low       Close   Adj Close  \\\n",
       "0  2011-12-15  154.740005  154.949997  151.710007  152.330002  152.330002   \n",
       "1  2011-12-16  154.309998  155.369995  153.899994  155.229996  155.229996   \n",
       "2  2011-12-19  155.479996  155.860001  154.360001  154.869995  154.869995   \n",
       "3  2011-12-20  156.820007  157.429993  156.580002  156.979996  156.979996   \n",
       "4  2011-12-21  156.979996  157.529999  156.130005  157.160004  157.160004   \n",
       "\n",
       "     Volume  \n",
       "0  21521900  \n",
       "1  18124300  \n",
       "2  12547200  \n",
       "3   9136300  \n",
       "4  11996100  "
      ]
     },
     "execution_count": 5,
     "metadata": {},
     "output_type": "execute_result"
    }
   ],
   "source": [
    "gold_data.head()"
   ]
  },
  {
   "cell_type": "code",
   "execution_count": 6,
   "id": "ac7788eb",
   "metadata": {},
   "outputs": [
    {
     "name": "stdout",
     "output_type": "stream",
     "text": [
      "<class 'pandas.core.frame.DataFrame'>\n",
      "RangeIndex: 1718 entries, 0 to 1717\n",
      "Data columns (total 7 columns):\n",
      " #   Column     Non-Null Count  Dtype  \n",
      "---  ------     --------------  -----  \n",
      " 0   Date       1718 non-null   object \n",
      " 1   Open       1718 non-null   float64\n",
      " 2   High       1718 non-null   float64\n",
      " 3   Low        1718 non-null   float64\n",
      " 4   Close      1718 non-null   float64\n",
      " 5   Adj Close  1718 non-null   float64\n",
      " 6   Volume     1718 non-null   int64  \n",
      "dtypes: float64(5), int64(1), object(1)\n",
      "memory usage: 94.1+ KB\n"
     ]
    }
   ],
   "source": [
    "gold_data.info()"
   ]
  },
  {
   "cell_type": "code",
   "execution_count": 7,
   "id": "e7c7d0ef",
   "metadata": {},
   "outputs": [
    {
     "data": {
      "text/plain": [
       "<AxesSubplot:>"
      ]
     },
     "execution_count": 7,
     "metadata": {},
     "output_type": "execute_result"
    },
    {
     "data": {
      "image/png": "[encoded data removed]",
      "text/plain": [
       "<Figure size 432x288 with 1 Axes>"
      ]
     },
     "metadata": {
      "needs_background": "light"
     },
     "output_type": "display_data"
    }
   ],
   "source": [
    "gold_data['Adj Close'].plot()"
   ]
  },
  {
   "cell_type": "code",
   "execution_count": 49,
   "id": "1aefb4e5",
   "metadata": {},
   "outputs": [
    {
     "data": {
      "text/plain": [
       "array([154.740005, 154.309998, 155.479996, ..., 120.57    , 120.800003,\n",
       "       120.980003])"
      ]
     },
     "execution_count": 49,
     "metadata": {},
     "output_type": "execute_result"
    }
   ],
   "source": [
    "data = gold_data['Open'].values\n",
    "data"
   ]
  },
  {
   "cell_type": "code",
   "execution_count": 50,
   "id": "e9598386",
   "metadata": {},
   "outputs": [
    {
     "data": {
      "text/plain": [
       "array([[154.740005],\n",
       "       [154.309998],\n",
       "       [155.479996],\n",
       "       ...,\n",
       "       [120.57    ],\n",
       "       [120.800003],\n",
       "       [120.980003]])"
      ]
     },
     "execution_count": 50,
     "metadata": {},
     "output_type": "execute_result"
    }
   ],
   "source": [
    "data = data.reshape(-1,1)\n",
    "data"
   ]
  },
  {
   "cell_type": "code",
   "execution_count": 51,
   "id": "3a1f15bc",
   "metadata": {},
   "outputs": [],
   "source": [
    "train = data[:data.shape[0]-50]\n",
    "test = data[len(train):]"
   ]
  },
  {
   "cell_type": "code",
   "execution_count": 52,
   "id": "eaed6b78",
   "metadata": {},
   "outputs": [
    {
     "data": {
      "text/plain": [
       "(1668, 1)"
      ]
     },
     "execution_count": 52,
     "metadata": {},
     "output_type": "execute_result"
    }
   ],
   "source": [
    "train.shape"
   ]
  },
  {
   "cell_type": "code",
   "execution_count": 53,
   "id": "adf356b7",
   "metadata": {},
   "outputs": [
    {
     "data": {
      "text/plain": [
       "(50, 1)"
      ]
     },
     "execution_count": 53,
     "metadata": {},
     "output_type": "execute_result"
    }
   ],
   "source": [
    "test.shape"
   ]
  },
  {
   "cell_type": "code",
   "execution_count": 54,
   "id": "7d6ff979",
   "metadata": {},
   "outputs": [
    {
     "data": {
      "text/plain": [
       "array([[0.74460442],\n",
       "       [0.73865524],\n",
       "       [0.75484226],\n",
       "       ...,\n",
       "       [0.21029338],\n",
       "       [0.21541229],\n",
       "       [0.20711125]])"
      ]
     },
     "execution_count": 54,
     "metadata": {},
     "output_type": "execute_result"
    }
   ],
   "source": [
    "scaller = MinMaxScaler(feature_range=(0,1))\n",
    "train_scalled = scaller.fit_transform(train)\n",
    "train_scalled"
   ]
  },
  {
   "cell_type": "code",
   "execution_count": 55,
   "id": "5b1bda49",
   "metadata": {},
   "outputs": [],
   "source": [
    "X_train , y_train = [] , []\n",
    "timesteps = 50\n",
    "\n",
    "for i in range (timesteps, train_scalled.shape[0]):\n",
    "    X_train.append(train_scalled[i-timesteps:i,0])\n",
    "    y_train.append(train_scalled[i,0])\n"
   ]
  },
  {
   "cell_type": "code",
   "execution_count": 56,
   "id": "583d8474",
   "metadata": {},
   "outputs": [],
   "source": [
    "X_train = np.array(X_train)\n",
    "y_train = np.array(y_train)"
   ]
  },
  {
   "cell_type": "code",
   "execution_count": 57,
   "id": "17741418",
   "metadata": {},
   "outputs": [
    {
     "data": {
      "text/plain": [
       "(1618, 50)"
      ]
     },
     "execution_count": 57,
     "metadata": {},
     "output_type": "execute_result"
    }
   ],
   "source": [
    "X_train.shape"
   ]
  },
  {
   "cell_type": "code",
   "execution_count": 58,
   "id": "7d68f61d",
   "metadata": {},
   "outputs": [
    {
     "data": {
      "text/plain": [
       "(1618,)"
      ]
     },
     "execution_count": 58,
     "metadata": {},
     "output_type": "execute_result"
    }
   ],
   "source": [
    "y_train.shape"
   ]
  },
  {
   "cell_type": "code",
   "execution_count": 59,
   "id": "a9edc36d",
   "metadata": {},
   "outputs": [],
   "source": [
    "X_train = X_train.reshape(X_train.shape[0],X_train.shape[1],1)"
   ]
  },
  {
   "cell_type": "code",
   "execution_count": 60,
   "id": "e64b76b2",
   "metadata": {},
   "outputs": [],
   "source": [
    "model = Sequential()\n",
    "model.add(LSTM(12, activation='tanh',input_shape=(X_train.shape[1],1),return_sequences=False))\n",
    "model.add(Dense(1))\n",
    "model.compile(optimizer='adam',loss='mean_squared_error')"
   ]
  },
  {
   "cell_type": "code",
   "execution_count": 61,
   "id": "06725e7e",
   "metadata": {},
   "outputs": [
    {
     "name": "stdout",
     "output_type": "stream",
     "text": [
      "Epoch 1/150\n",
      "405/405 [==============================] - 7s 11ms/step - loss: 0.0119\n",
      "Epoch 2/150\n",
      "405/405 [==============================] - 5s 12ms/step - loss: 0.0011\n",
      "Epoch 3/150\n",
      "405/405 [==============================] - 5s 12ms/step - loss: 0.0010\n",
      "Epoch 4/150\n",
      "405/405 [==============================] - 5s 12ms/step - loss: 8.7269e-04\n",
      "Epoch 5/150\n",
      "405/405 [==============================] - 5s 12ms/step - loss: 8.0828e-04\n",
      "Epoch 6/150\n",
      "405/405 [==============================] - 5s 12ms/step - loss: 7.2985e-04\n",
      "Epoch 7/150\n",
      "405/405 [==============================] - 4s 11ms/step - loss: 6.6744e-04\n",
      "Epoch 8/150\n",
      "405/405 [==============================] - 5s 11ms/step - loss: 6.1970e-04\n",
      "Epoch 9/150\n",
      "405/405 [==============================] - 5s 11ms/step - loss: 5.7742e-04\n",
      "Epoch 10/150\n",
      "405/405 [==============================] - 5s 11ms/step - loss: 5.3320e-04\n",
      "Epoch 11/150\n",
      "405/405 [==============================] - 4s 11ms/step - loss: 5.0832e-04\n",
      "Epoch 12/150\n",
      "405/405 [==============================] - 5s 12ms/step - loss: 5.0436e-04\n",
      "Epoch 13/150\n",
      "405/405 [==============================] - 5s 14ms/step - loss: 4.7918e-04\n",
      "Epoch 14/150\n",
      "405/405 [==============================] - 5s 12ms/step - loss: 4.5426e-04\n",
      "Epoch 15/150\n",
      "405/405 [==============================] - 5s 12ms/step - loss: 4.4045e-04\n",
      "Epoch 16/150\n",
      "405/405 [==============================] - 5s 11ms/step - loss: 4.2387e-04\n",
      "Epoch 17/150\n",
      "405/405 [==============================] - 5s 12ms/step - loss: 4.1660e-04\n",
      "Epoch 18/150\n",
      "405/405 [==============================] - 4s 11ms/step - loss: 3.9402e-04\n",
      "Epoch 19/150\n",
      "405/405 [==============================] - 5s 11ms/step - loss: 3.9346e-04\n",
      "Epoch 20/150\n",
      "405/405 [==============================] - 4s 11ms/step - loss: 3.7116e-04\n",
      "Epoch 21/150\n",
      "405/405 [==============================] - 4s 11ms/step - loss: 3.6618e-04\n",
      "Epoch 22/150\n",
      "405/405 [==============================] - 5s 13ms/step - loss: 3.5542e-04\n",
      "Epoch 23/150\n",
      "405/405 [==============================] - 4s 11ms/step - loss: 3.4416e-04\n",
      "Epoch 24/150\n",
      "405/405 [==============================] - 5s 12ms/step - loss: 3.4129e-04\n",
      "Epoch 25/150\n",
      "405/405 [==============================] - 5s 12ms/step - loss: 3.3635e-04\n",
      "Epoch 26/150\n",
      "405/405 [==============================] - 5s 11ms/step - loss: 3.3634e-04\n",
      "Epoch 27/150\n",
      "405/405 [==============================] - 5s 12ms/step - loss: 3.3614e-04\n",
      "Epoch 28/150\n",
      "405/405 [==============================] - 5s 14ms/step - loss: 3.2761e-04\n",
      "Epoch 29/150\n",
      "405/405 [==============================] - 5s 12ms/step - loss: 3.1203e-04\n",
      "Epoch 30/150\n",
      "405/405 [==============================] - 5s 12ms/step - loss: 3.2211e-04\n",
      "Epoch 31/150\n",
      "405/405 [==============================] - 5s 12ms/step - loss: 3.0793e-04\n",
      "Epoch 32/150\n",
      "405/405 [==============================] - 5s 12ms/step - loss: 3.1268e-04\n",
      "Epoch 33/150\n",
      "405/405 [==============================] - 5s 11ms/step - loss: 3.0890e-04\n",
      "Epoch 34/150\n",
      "405/405 [==============================] - 5s 11ms/step - loss: 3.1096e-04\n",
      "Epoch 35/150\n",
      "405/405 [==============================] - 4s 11ms/step - loss: 3.2830e-04\n",
      "Epoch 36/150\n",
      "405/405 [==============================] - 4s 11ms/step - loss: 3.1603e-04\n",
      "Epoch 37/150\n",
      "405/405 [==============================] - 5s 12ms/step - loss: 3.1219e-04\n",
      "Epoch 38/150\n",
      "405/405 [==============================] - 5s 12ms/step - loss: 3.1519e-04\n",
      "Epoch 39/150\n",
      "405/405 [==============================] - 5s 11ms/step - loss: 3.1254e-04\n",
      "Epoch 40/150\n",
      "405/405 [==============================] - 4s 11ms/step - loss: 3.1424e-04\n",
      "Epoch 41/150\n",
      "405/405 [==============================] - 5s 13ms/step - loss: 3.0378e-04\n",
      "Epoch 42/150\n",
      "405/405 [==============================] - 5s 13ms/step - loss: 3.2201e-04\n",
      "Epoch 43/150\n",
      "405/405 [==============================] - 5s 11ms/step - loss: 3.1467e-04\n",
      "Epoch 44/150\n",
      "405/405 [==============================] - 4s 11ms/step - loss: 3.0952e-04\n",
      "Epoch 45/150\n",
      "405/405 [==============================] - 4s 11ms/step - loss: 3.0383e-04\n",
      "Epoch 46/150\n",
      "405/405 [==============================] - 4s 11ms/step - loss: 3.1318e-04\n",
      "Epoch 47/150\n",
      "405/405 [==============================] - 4s 11ms/step - loss: 3.1650e-04\n",
      "Epoch 48/150\n",
      "405/405 [==============================] - 5s 11ms/step - loss: 3.1210e-04\n",
      "Epoch 49/150\n",
      "405/405 [==============================] - 5s 12ms/step - loss: 3.1175e-04\n",
      "Epoch 50/150\n",
      "405/405 [==============================] - 5s 11ms/step - loss: 3.1960e-04\n",
      "Epoch 51/150\n",
      "405/405 [==============================] - 4s 10ms/step - loss: 3.1320e-04\n",
      "Epoch 52/150\n",
      "405/405 [==============================] - 4s 10ms/step - loss: 3.1156e-04\n",
      "Epoch 53/150\n",
      "405/405 [==============================] - 4s 10ms/step - loss: 3.0518e-04\n",
      "Epoch 54/150\n",
      "405/405 [==============================] - 4s 10ms/step - loss: 3.1506e-04\n",
      "Epoch 55/150\n",
      "405/405 [==============================] - 4s 10ms/step - loss: 3.1373e-04\n",
      "Epoch 56/150\n",
      "405/405 [==============================] - 4s 10ms/step - loss: 3.0579e-04\n",
      "Epoch 57/150\n",
      "405/405 [==============================] - 4s 10ms/step - loss: 3.0576e-04\n",
      "Epoch 58/150\n",
      "405/405 [==============================] - 4s 10ms/step - loss: 3.0952e-04\n",
      "Epoch 59/150\n",
      "405/405 [==============================] - 4s 10ms/step - loss: 3.0746e-04\n",
      "Epoch 60/150\n",
      "405/405 [==============================] - 5s 12ms/step - loss: 3.1373e-04\n",
      "Epoch 61/150\n",
      "405/405 [==============================] - 5s 12ms/step - loss: 3.0522e-04\n",
      "Epoch 62/150\n",
      "405/405 [==============================] - 4s 11ms/step - loss: 3.1291e-04\n",
      "Epoch 63/150\n",
      "405/405 [==============================] - 5s 13ms/step - loss: 2.9917e-04\n",
      "Epoch 64/150\n",
      "405/405 [==============================] - 5s 12ms/step - loss: 2.9817e-04\n",
      "Epoch 65/150\n",
      "405/405 [==============================] - 5s 12ms/step - loss: 3.0698e-04\n",
      "Epoch 66/150\n",
      "405/405 [==============================] - 5s 12ms/step - loss: 3.0238e-04\n",
      "Epoch 67/150\n",
      "405/405 [==============================] - 5s 12ms/step - loss: 3.1932e-04\n",
      "Epoch 68/150\n",
      "405/405 [==============================] - 5s 12ms/step - loss: 3.0736e-04\n",
      "Epoch 69/150\n",
      "405/405 [==============================] - 5s 12ms/step - loss: 3.0572e-04\n",
      "Epoch 70/150\n",
      "405/405 [==============================] - 5s 12ms/step - loss: 3.0781e-04\n",
      "Epoch 71/150\n",
      "405/405 [==============================] - 5s 12ms/step - loss: 3.0305e-04\n",
      "Epoch 72/150\n",
      "405/405 [==============================] - 5s 12ms/step - loss: 3.0040e-04\n",
      "Epoch 73/150\n",
      "405/405 [==============================] - 5s 12ms/step - loss: 3.0193e-04\n",
      "Epoch 74/150\n",
      "405/405 [==============================] - 5s 12ms/step - loss: 3.0569e-04\n",
      "Epoch 75/150\n",
      "405/405 [==============================] - 5s 12ms/step - loss: 3.1387e-04\n",
      "Epoch 76/150\n",
      "405/405 [==============================] - 5s 12ms/step - loss: 3.0097e-04\n",
      "Epoch 77/150\n",
      "405/405 [==============================] - 5s 12ms/step - loss: 3.0839e-04\n",
      "Epoch 78/150\n",
      "405/405 [==============================] - 5s 12ms/step - loss: 3.1130e-04\n",
      "Epoch 79/150\n",
      "405/405 [==============================] - 5s 11ms/step - loss: 3.0033e-04\n",
      "Epoch 80/150\n",
      "405/405 [==============================] - 4s 11ms/step - loss: 2.9216e-04\n",
      "Epoch 81/150\n",
      "405/405 [==============================] - 4s 11ms/step - loss: 2.9930e-04\n",
      "Epoch 82/150\n",
      "405/405 [==============================] - 4s 11ms/step - loss: 3.1127e-04\n",
      "Epoch 83/150\n",
      "405/405 [==============================] - 4s 11ms/step - loss: 3.1327e-04\n",
      "Epoch 84/150\n",
      "405/405 [==============================] - 4s 11ms/step - loss: 3.0538e-04\n",
      "Epoch 85/150\n",
      "405/405 [==============================] - 4s 11ms/step - loss: 3.0325e-04\n",
      "Epoch 86/150\n",
      "405/405 [==============================] - 4s 11ms/step - loss: 3.0964e-04\n",
      "Epoch 87/150\n",
      "405/405 [==============================] - 4s 11ms/step - loss: 2.9016e-04\n",
      "Epoch 88/150\n",
      "405/405 [==============================] - 4s 11ms/step - loss: 3.0336e-04\n",
      "Epoch 89/150\n",
      "405/405 [==============================] - 4s 11ms/step - loss: 3.0423e-04\n",
      "Epoch 90/150\n",
      "405/405 [==============================] - 4s 11ms/step - loss: 3.0553e-04\n",
      "Epoch 91/150\n",
      "405/405 [==============================] - 4s 11ms/step - loss: 3.0434e-04\n",
      "Epoch 92/150\n",
      "405/405 [==============================] - 4s 11ms/step - loss: 2.9515e-04\n",
      "Epoch 93/150\n",
      "405/405 [==============================] - 4s 11ms/step - loss: 3.0025e-04\n",
      "Epoch 94/150\n"
     ]
    },
    {
     "name": "stdout",
     "output_type": "stream",
     "text": [
      "405/405 [==============================] - 4s 11ms/step - loss: 3.1466e-04\n",
      "Epoch 95/150\n",
      "405/405 [==============================] - 4s 11ms/step - loss: 3.0366e-04\n",
      "Epoch 96/150\n",
      "405/405 [==============================] - 4s 11ms/step - loss: 3.0358e-04\n",
      "Epoch 97/150\n",
      "405/405 [==============================] - 4s 11ms/step - loss: 2.9206e-04\n",
      "Epoch 98/150\n",
      "405/405 [==============================] - 4s 11ms/step - loss: 3.0380e-04\n",
      "Epoch 99/150\n",
      "405/405 [==============================] - 4s 11ms/step - loss: 2.9693e-04\n",
      "Epoch 100/150\n",
      "405/405 [==============================] - 4s 11ms/step - loss: 3.0227e-04\n",
      "Epoch 101/150\n",
      "405/405 [==============================] - 4s 11ms/step - loss: 3.0389e-04\n",
      "Epoch 102/150\n",
      "405/405 [==============================] - 4s 11ms/step - loss: 3.0447e-04\n",
      "Epoch 103/150\n",
      "405/405 [==============================] - 4s 11ms/step - loss: 2.9726e-04\n",
      "Epoch 104/150\n",
      "405/405 [==============================] - 4s 11ms/step - loss: 2.9944e-04\n",
      "Epoch 105/150\n",
      "405/405 [==============================] - 4s 11ms/step - loss: 3.0452e-04\n",
      "Epoch 106/150\n",
      "405/405 [==============================] - 4s 11ms/step - loss: 2.9547e-04\n",
      "Epoch 107/150\n",
      "405/405 [==============================] - 4s 11ms/step - loss: 3.0148e-04\n",
      "Epoch 108/150\n",
      "405/405 [==============================] - 4s 11ms/step - loss: 3.0169e-04\n",
      "Epoch 109/150\n",
      "405/405 [==============================] - 4s 11ms/step - loss: 3.0213e-04\n",
      "Epoch 110/150\n",
      "405/405 [==============================] - 4s 11ms/step - loss: 3.0255e-04\n",
      "Epoch 111/150\n",
      "405/405 [==============================] - 4s 11ms/step - loss: 3.0021e-04\n",
      "Epoch 112/150\n",
      "405/405 [==============================] - 4s 11ms/step - loss: 2.9978e-04\n",
      "Epoch 113/150\n",
      "405/405 [==============================] - 4s 11ms/step - loss: 2.9613e-04\n",
      "Epoch 114/150\n",
      "405/405 [==============================] - 4s 11ms/step - loss: 3.0069e-04\n",
      "Epoch 115/150\n",
      "405/405 [==============================] - 4s 11ms/step - loss: 2.9894e-04\n",
      "Epoch 116/150\n",
      "405/405 [==============================] - 4s 11ms/step - loss: 3.1228e-04\n",
      "Epoch 117/150\n",
      "405/405 [==============================] - 4s 11ms/step - loss: 3.0291e-04\n",
      "Epoch 118/150\n",
      "405/405 [==============================] - 4s 11ms/step - loss: 3.0256e-04\n",
      "Epoch 119/150\n",
      "405/405 [==============================] - 4s 11ms/step - loss: 3.0465e-04\n",
      "Epoch 120/150\n",
      "405/405 [==============================] - 4s 11ms/step - loss: 2.9540e-04\n",
      "Epoch 121/150\n",
      "405/405 [==============================] - 4s 11ms/step - loss: 2.9790e-04\n",
      "Epoch 122/150\n",
      "405/405 [==============================] - 4s 11ms/step - loss: 2.9599e-04\n",
      "Epoch 123/150\n",
      "405/405 [==============================] - 4s 11ms/step - loss: 2.9887e-04\n",
      "Epoch 124/150\n",
      "405/405 [==============================] - 4s 11ms/step - loss: 2.9425e-04\n",
      "Epoch 125/150\n",
      "405/405 [==============================] - 4s 11ms/step - loss: 3.0553e-04\n",
      "Epoch 126/150\n",
      "405/405 [==============================] - 4s 11ms/step - loss: 3.0054e-04\n",
      "Epoch 127/150\n",
      "405/405 [==============================] - 4s 11ms/step - loss: 2.9670e-04\n",
      "Epoch 128/150\n",
      "405/405 [==============================] - 4s 11ms/step - loss: 2.9422e-04\n",
      "Epoch 129/150\n",
      "405/405 [==============================] - 4s 11ms/step - loss: 2.9838e-04\n",
      "Epoch 130/150\n",
      "405/405 [==============================] - 4s 11ms/step - loss: 2.9737e-04\n",
      "Epoch 131/150\n",
      "405/405 [==============================] - 4s 11ms/step - loss: 2.9815e-04\n",
      "Epoch 132/150\n",
      "405/405 [==============================] - 4s 11ms/step - loss: 2.9957e-04\n",
      "Epoch 133/150\n",
      "405/405 [==============================] - 4s 11ms/step - loss: 2.9556e-04\n",
      "Epoch 134/150\n",
      "405/405 [==============================] - 4s 11ms/step - loss: 2.9111e-04\n",
      "Epoch 135/150\n",
      "405/405 [==============================] - 4s 11ms/step - loss: 2.9526e-04\n",
      "Epoch 136/150\n",
      "405/405 [==============================] - 4s 11ms/step - loss: 2.9871e-04\n",
      "Epoch 137/150\n",
      "405/405 [==============================] - 4s 11ms/step - loss: 3.0262e-04\n",
      "Epoch 138/150\n",
      "405/405 [==============================] - 4s 11ms/step - loss: 3.0450e-04\n",
      "Epoch 139/150\n",
      "405/405 [==============================] - 4s 11ms/step - loss: 2.9338e-04\n",
      "Epoch 140/150\n",
      "405/405 [==============================] - 4s 11ms/step - loss: 2.9633e-04\n",
      "Epoch 141/150\n",
      "405/405 [==============================] - 4s 11ms/step - loss: 3.0646e-04\n",
      "Epoch 142/150\n",
      "405/405 [==============================] - 4s 11ms/step - loss: 2.9969e-04\n",
      "Epoch 143/150\n",
      "405/405 [==============================] - 4s 11ms/step - loss: 2.9685e-04\n",
      "Epoch 144/150\n",
      "405/405 [==============================] - 4s 11ms/step - loss: 3.0308e-04\n",
      "Epoch 145/150\n",
      "405/405 [==============================] - 4s 11ms/step - loss: 2.9117e-04\n",
      "Epoch 146/150\n",
      "405/405 [==============================] - 4s 11ms/step - loss: 3.0077e-04\n",
      "Epoch 147/150\n",
      "405/405 [==============================] - 4s 11ms/step - loss: 2.9582e-04\n",
      "Epoch 148/150\n",
      "405/405 [==============================] - 4s 11ms/step - loss: 2.9451e-04\n",
      "Epoch 149/150\n",
      "405/405 [==============================] - 4s 11ms/step - loss: 2.9724e-04\n",
      "Epoch 150/150\n",
      "405/405 [==============================] - 4s 11ms/step - loss: 2.9222e-04\n"
     ]
    },
    {
     "data": {
      "text/plain": [
       "<keras.callbacks.History at 0x23e8b4539a0>"
      ]
     },
     "execution_count": 61,
     "metadata": {},
     "output_type": "execute_result"
    }
   ],
   "source": [
    "model.fit(X_train,y_train,batch_size=4,epochs=150)"
   ]
  },
  {
   "cell_type": "code",
   "execution_count": 62,
   "id": "d84494ae",
   "metadata": {},
   "outputs": [],
   "source": [
    "XT = data[len(data)-len(test)-timesteps:]\n",
    "XT = XT.reshape(-1,1)\n",
    "XT_scalled = scaller.transform(XT)\n",
    "\n",
    "\n",
    "\n",
    "X_test = []\n",
    "for i in range(timesteps,XT_scalled.shape[0]):\n",
    "    X_test.append(XT_scalled[i-timesteps:i,0])\n"
   ]
  },
  {
   "cell_type": "code",
   "execution_count": 63,
   "id": "6a974eda",
   "metadata": {},
   "outputs": [
    {
     "data": {
      "text/plain": [
       "(50, 50)"
      ]
     },
     "execution_count": 63,
     "metadata": {},
     "output_type": "execute_result"
    }
   ],
   "source": [
    "X_test = np.array(X_test)\n",
    "X_test.shape"
   ]
  },
  {
   "cell_type": "code",
   "execution_count": 64,
   "id": "03b173fb",
   "metadata": {},
   "outputs": [],
   "source": [
    "X_test = X_test.reshape(X_test.shape[0],X_test.shape[1],1)"
   ]
  },
  {
   "cell_type": "code",
   "execution_count": 65,
   "id": "9aa8fc1d",
   "metadata": {},
   "outputs": [
    {
     "name": "stdout",
     "output_type": "stream",
     "text": [
      "2/2 [==============================] - 0s 4ms/step\n"
     ]
    }
   ],
   "source": [
    "predict = model.predict(X_test)\n",
    "normal_price = scaller.inverse_transform(predict)"
   ]
  },
  {
   "cell_type": "code",
   "execution_count": 66,
   "id": "b2a9167f",
   "metadata": {},
   "outputs": [
    {
     "data": {
      "image/png": "[encoded data removed]",
      "text/plain": [
       "<Figure size 640x320 with 1 Axes>"
      ]
     },
     "metadata": {},
     "output_type": "display_data"
    }
   ],
   "source": [
    "plt.figure(figsize=(8,4), dpi=80, facecolor='w', edgecolor='k')\n",
    "plt.plot(test,color=\"orange\",label=\"Real value\")\n",
    "plt.plot(normal_price,color=\"c\",label=\"LSTM predicted result\")\n",
    "plt.legend()\n",
    "plt.xlabel(\"Days\")\n",
    "plt.ylabel(\"Values\")\n",
    "plt.grid(True)\n",
    "plt.show()"
   ]
  },
  {
   "cell_type": "code",
   "execution_count": 67,
   "id": "b9899b8b",
   "metadata": {},
   "outputs": [
    {
     "data": {
      "text/plain": [
       "0.8415079894407348"
      ]
     },
     "execution_count": 67,
     "metadata": {},
     "output_type": "execute_result"
    }
   ],
   "source": [
    "r2_score(test,normal_price)"
   ]
  },
  {
   "cell_type": "code",
   "execution_count": 68,
   "id": "c354b9b8",
   "metadata": {},
   "outputs": [],
   "source": [
    "model2 = Sequential()\n",
    "model2.add(LSTM(12, activation='tanh',input_shape=(X_train.shape[1],1),return_sequences=True))\n",
    "model2.add(LSTM(6, activation='tanh',return_sequences=False))\n",
    "model2.add(Dense(1))\n",
    "model2.compile(optimizer='adam',loss='mean_squared_error')"
   ]
  },
  {
   "cell_type": "code",
   "execution_count": 69,
   "id": "94959f0c",
   "metadata": {},
   "outputs": [
    {
     "name": "stdout",
     "output_type": "stream",
     "text": [
      "Epoch 1/100\n",
      "405/405 [==============================] - 12s 21ms/step - loss: 0.0060\n",
      "Epoch 2/100\n",
      "405/405 [==============================] - 9s 22ms/step - loss: 0.0015\n",
      "Epoch 3/100\n",
      "405/405 [==============================] - 9s 23ms/step - loss: 0.0012\n",
      "Epoch 4/100\n",
      "405/405 [==============================] - 9s 22ms/step - loss: 0.0010\n",
      "Epoch 5/100\n",
      "405/405 [==============================] - 9s 22ms/step - loss: 8.9459e-04\n",
      "Epoch 6/100\n",
      "405/405 [==============================] - 9s 22ms/step - loss: 7.7665e-04\n",
      "Epoch 7/100\n",
      "405/405 [==============================] - 9s 22ms/step - loss: 7.1929e-04\n",
      "Epoch 8/100\n",
      "405/405 [==============================] - 9s 22ms/step - loss: 6.6187e-04\n",
      "Epoch 9/100\n",
      "405/405 [==============================] - 10s 24ms/step - loss: 6.0746e-04\n",
      "Epoch 10/100\n",
      "405/405 [==============================] - 9s 23ms/step - loss: 5.8795e-04\n",
      "Epoch 11/100\n",
      "405/405 [==============================] - 9s 21ms/step - loss: 5.1219e-04\n",
      "Epoch 12/100\n",
      "405/405 [==============================] - 9s 21ms/step - loss: 5.0912e-04\n",
      "Epoch 13/100\n",
      "405/405 [==============================] - 9s 22ms/step - loss: 4.7368e-04\n",
      "Epoch 14/100\n",
      "405/405 [==============================] - 9s 23ms/step - loss: 3.6410e-04\n",
      "Epoch 22/100\n",
      "405/405 [==============================] - 9s 21ms/step - loss: 3.5260e-04\n",
      "Epoch 23/100\n",
      "405/405 [==============================] - 9s 21ms/step - loss: 3.6763e-04\n",
      "Epoch 24/100\n",
      "405/405 [==============================] - 8s 21ms/step - loss: 3.2933e-04\n",
      "Epoch 25/100\n",
      "405/405 [==============================] - 8s 21ms/step - loss: 3.4845e-04\n",
      "Epoch 26/100\n",
      "405/405 [==============================] - 9s 23ms/step - loss: 3.6748e-04\n",
      "Epoch 27/100\n",
      "405/405 [==============================] - 9s 22ms/step - loss: 3.4255e-04\n",
      "Epoch 28/100\n",
      "405/405 [==============================] - 9s 22ms/step - loss: 3.3516e-04\n",
      "Epoch 29/100\n",
      "405/405 [==============================] - 8s 21ms/step - loss: 3.4231e-04\n",
      "Epoch 30/100\n",
      "405/405 [==============================] - 8s 21ms/step - loss: 3.5984e-04\n",
      "Epoch 31/100\n",
      "405/405 [==============================] - 8s 21ms/step - loss: 3.5503e-04\n",
      "Epoch 32/100\n",
      "405/405 [==============================] - 8s 21ms/step - loss: 3.5217e-04\n",
      "Epoch 33/100\n",
      "405/405 [==============================] - 8s 21ms/step - loss: 3.2124e-04\n",
      "Epoch 34/100\n",
      "405/405 [==============================] - 8s 21ms/step - loss: 3.4763e-04\n",
      "Epoch 35/100\n",
      "405/405 [==============================] - 8s 21ms/step - loss: 3.3038e-04\n",
      "Epoch 36/100\n",
      "405/405 [==============================] - 8s 21ms/step - loss: 3.5163e-04\n",
      "Epoch 37/100\n",
      "405/405 [==============================] - 8s 21ms/step - loss: 3.4550e-04\n",
      "Epoch 38/100\n",
      "405/405 [==============================] - 8s 21ms/step - loss: 3.5899e-04\n",
      "Epoch 39/100\n",
      "405/405 [==============================] - 8s 21ms/step - loss: 3.3486e-04\n",
      "Epoch 40/100\n",
      "405/405 [==============================] - 8s 21ms/step - loss: 3.3018e-04\n",
      "Epoch 41/100\n",
      "405/405 [==============================] - 8s 21ms/step - loss: 3.4026e-04\n",
      "Epoch 42/100\n",
      "405/405 [==============================] - 8s 21ms/step - loss: 3.1535e-04\n",
      "Epoch 43/100\n",
      "405/405 [==============================] - 8s 21ms/step - loss: 3.2576e-04\n",
      "Epoch 44/100\n",
      "405/405 [==============================] - 8s 21ms/step - loss: 3.3113e-04\n",
      "Epoch 45/100\n",
      "405/405 [==============================] - 8s 21ms/step - loss: 3.2721e-04\n",
      "Epoch 46/100\n",
      "405/405 [==============================] - 8s 21ms/step - loss: 3.2044e-04\n",
      "Epoch 47/100\n",
      "405/405 [==============================] - 8s 21ms/step - loss: 3.3670e-04\n",
      "Epoch 48/100\n",
      "405/405 [==============================] - 8s 21ms/step - loss: 3.1988e-04\n",
      "Epoch 49/100\n",
      "405/405 [==============================] - 8s 21ms/step - loss: 3.4072e-04\n",
      "Epoch 50/100\n",
      "405/405 [==============================] - 8s 21ms/step - loss: 3.1621e-04\n",
      "Epoch 51/100\n",
      "405/405 [==============================] - 8s 21ms/step - loss: 3.3852e-04\n",
      "Epoch 52/100\n",
      "405/405 [==============================] - 8s 21ms/step - loss: 3.3618e-04\n",
      "Epoch 53/100\n",
      "405/405 [==============================] - 8s 21ms/step - loss: 3.2009e-04\n",
      "Epoch 54/100\n",
      "405/405 [==============================] - 8s 21ms/step - loss: 3.1844e-04\n",
      "Epoch 55/100\n",
      "405/405 [==============================] - 8s 21ms/step - loss: 3.3335e-04\n",
      "Epoch 56/100\n",
      "405/405 [==============================] - 8s 21ms/step - loss: 3.3256e-04\n",
      "Epoch 57/100\n",
      "405/405 [==============================] - 8s 21ms/step - loss: 3.3984e-04\n",
      "Epoch 58/100\n",
      "405/405 [==============================] - 9s 23ms/step - loss: 3.2662e-04\n",
      "Epoch 59/100\n",
      "405/405 [==============================] - 9s 22ms/step - loss: 3.2812e-04\n",
      "Epoch 60/100\n",
      "405/405 [==============================] - 8s 21ms/step - loss: 3.4325e-04\n",
      "Epoch 61/100\n",
      "405/405 [==============================] - 8s 21ms/step - loss: 3.1374e-04\n",
      "Epoch 62/100\n",
      "405/405 [==============================] - 8s 21ms/step - loss: 3.3407e-04\n",
      "Epoch 63/100\n",
      "405/405 [==============================] - 8s 21ms/step - loss: 3.2544e-04\n",
      "Epoch 64/100\n",
      "405/405 [==============================] - 8s 21ms/step - loss: 3.1494e-04\n",
      "Epoch 65/100\n",
      "405/405 [==============================] - 8s 21ms/step - loss: 3.2691e-04\n",
      "Epoch 66/100\n",
      "405/405 [==============================] - 8s 21ms/step - loss: 3.1065e-04\n",
      "Epoch 67/100\n",
      "405/405 [==============================] - 8s 21ms/step - loss: 3.2754e-04\n",
      "Epoch 68/100\n",
      "405/405 [==============================] - 9s 22ms/step - loss: 3.2031e-04\n",
      "Epoch 69/100\n",
      "405/405 [==============================] - 9s 22ms/step - loss: 3.2004e-04\n",
      "Epoch 70/100\n",
      "405/405 [==============================] - 8s 21ms/step - loss: 3.1341e-04\n",
      "Epoch 71/100\n",
      "405/405 [==============================] - 10s 24ms/step - loss: 3.1579e-04\n",
      "Epoch 72/100\n",
      "405/405 [==============================] - 9s 22ms/step - loss: 3.2335e-04\n",
      "Epoch 73/100\n",
      "405/405 [==============================] - 10s 24ms/step - loss: 3.1284e-04\n",
      "Epoch 74/100\n",
      "405/405 [==============================] - 10s 24ms/step - loss: 3.0736e-04\n",
      "Epoch 75/100\n",
      "405/405 [==============================] - 9s 23ms/step - loss: 3.3097e-04\n",
      "Epoch 76/100\n",
      "405/405 [==============================] - 9s 23ms/step - loss: 3.2841e-04\n",
      "Epoch 77/100\n",
      "405/405 [==============================] - 9s 22ms/step - loss: 3.3537e-04\n",
      "Epoch 78/100\n",
      "405/405 [==============================] - 9s 22ms/step - loss: 3.2108e-04\n",
      "Epoch 79/100\n",
      "405/405 [==============================] - 9s 22ms/step - loss: 3.2529e-04\n",
      "Epoch 80/100\n",
      "405/405 [==============================] - 9s 22ms/step - loss: 3.1607e-04\n",
      "Epoch 81/100\n",
      "405/405 [==============================] - 9s 21ms/step - loss: 3.1620e-04\n",
      "Epoch 82/100\n",
      "405/405 [==============================] - 9s 21ms/step - loss: 3.2942e-04\n",
      "Epoch 83/100\n",
      "405/405 [==============================] - 9s 22ms/step - loss: 3.2411e-04\n",
      "Epoch 84/100\n",
      "405/405 [==============================] - 9s 21ms/step - loss: 3.1142e-04\n",
      "Epoch 85/100\n",
      "405/405 [==============================] - 9s 21ms/step - loss: 3.0678e-04\n",
      "Epoch 86/100\n",
      "405/405 [==============================] - 9s 21ms/step - loss: 3.1436e-04\n",
      "Epoch 87/100\n",
      "405/405 [==============================] - 9s 22ms/step - loss: 3.2097e-04\n",
      "Epoch 88/100\n",
      "405/405 [==============================] - 9s 22ms/step - loss: 3.2829e-04\n",
      "Epoch 89/100\n",
      "405/405 [==============================] - 9s 22ms/step - loss: 3.2263e-04\n",
      "Epoch 90/100\n",
      "405/405 [==============================] - 9s 22ms/step - loss: 3.0281e-04\n",
      "Epoch 91/100\n",
      "405/405 [==============================] - 9s 21ms/step - loss: 3.2758e-04\n",
      "Epoch 92/100\n",
      "405/405 [==============================] - 9s 22ms/step - loss: 3.1958e-04\n",
      "Epoch 93/100\n",
      "405/405 [==============================] - 9s 22ms/step - loss: 3.0745e-04\n",
      "Epoch 94/100\n",
      "405/405 [==============================] - 9s 22ms/step - loss: 3.2669e-04\n",
      "Epoch 95/100\n",
      "405/405 [==============================] - 9s 22ms/step - loss: 3.1174e-04\n",
      "Epoch 96/100\n",
      "405/405 [==============================] - 9s 22ms/step - loss: 3.1482e-04\n",
      "Epoch 97/100\n",
      "405/405 [==============================] - 9s 22ms/step - loss: 3.0698e-04\n",
      "Epoch 98/100\n",
      "405/405 [==============================] - 9s 22ms/step - loss: 3.2585e-04\n",
      "Epoch 99/100\n",
      "405/405 [==============================] - 9s 22ms/step - loss: 3.1677e-04\n",
      "Epoch 100/100\n",
      "405/405 [==============================] - 9s 22ms/step - loss: 3.1556e-04\n"
     ]
    },
    {
     "data": {
      "text/plain": [
       "<keras.callbacks.History at 0x23e8b49b5e0>"
      ]
     },
     "execution_count": 69,
     "metadata": {},
     "output_type": "execute_result"
    }
   ],
   "source": [
    "model2.fit(X_train,y_train,batch_size=4,epochs=100)"
   ]
  },
  {
   "cell_type": "code",
   "execution_count": 70,
   "id": "0135f269",
   "metadata": {},
   "outputs": [
    {
     "name": "stdout",
     "output_type": "stream",
     "text": [
      "WARNING:tensorflow:5 out of the last 9 calls to <function Model.make_predict_function.<locals>.predict_function at 0x0000023EF8A0D280> triggered tf.function retracing. Tracing is expensive and the excessive number of tracings could be due to (1) creating @tf.function repeatedly in a loop, (2) passing tensors with different shapes, (3) passing Python objects instead of tensors. For (1), please define your @tf.function outside of the loop. For (2), @tf.function has reduce_retracing=True option that can avoid unnecessary retracing. For (3), please refer to https://www.tensorflow.org/guide/function#controlling_retracing and https://www.tensorflow.org/api_docs/python/tf/function for  more details.\n",
      "2/2 [==============================] - 1s 6ms/step\n"
     ]
    }
   ],
   "source": [
    "predict2 = model2.predict(X_test)\n",
    "normal_price2 = scaller.inverse_transform(predict2)"
   ]
  },
  {
   "cell_type": "code",
   "execution_count": 71,
   "id": "e051b0c8",
   "metadata": {},
   "outputs": [
    {
     "data": {
      "image/png": "[encoded data removed]",
      "text/plain": [
       "<Figure size 640x320 with 1 Axes>"
      ]
     },
     "metadata": {},
     "output_type": "display_data"
    }
   ],
   "source": [
    "plt.figure(figsize=(8,4), dpi=80, facecolor='w', edgecolor='k')\n",
    "plt.plot(test,color=\"orange\",label=\"Real value\")\n",
    "plt.plot(normal_price2,color=\"c\",label=\"LSTM Modified predicted result\")\n",
    "plt.legend()\n",
    "plt.xlabel(\"Days\")\n",
    "plt.ylabel(\"Values\")\n",
    "plt.grid(True)\n",
    "plt.show()"
   ]
  },
  {
   "cell_type": "code",
   "execution_count": 72,
   "id": "9c8281ad",
   "metadata": {},
   "outputs": [
    {
     "data": {
      "text/plain": [
       "0.8360081891175716"
      ]
     },
     "execution_count": 72,
     "metadata": {},
     "output_type": "execute_result"
    }
   ],
   "source": [
    "r2_score(test,normal_price2)"
   ]
  },
  {
   "cell_type": "code",
   "execution_count": 73,
   "id": "f563c69b",
   "metadata": {},
   "outputs": [],
   "source": [
    "model3 = Sequential()\n",
    "model3.add(LSTM(12, activation='tanh',input_shape=(X_train.shape[1],1),return_sequences=True))\n",
    "model3.add(LSTM(8, activation='tanh',return_sequences=False))\n",
    "model3.add(Dense(1))\n",
    "model3.compile(optimizer='adam',loss='mean_squared_error')"
   ]
  },
  {
   "cell_type": "code",
   "execution_count": 74,
   "id": "551e7daf",
   "metadata": {},
   "outputs": [
    {
     "name": "stdout",
     "output_type": "stream",
     "text": [
      "Epoch 1/150\n",
      "51/51 [==============================] - 4s 22ms/step - loss: 0.0556\n",
      "Epoch 2/150\n",
      "51/51 [==============================] - 1s 23ms/step - loss: 0.0033\n",
      "Epoch 3/150\n",
      "51/51 [==============================] - 1s 22ms/step - loss: 0.0019\n",
      "Epoch 4/150\n",
      "51/51 [==============================] - 1s 22ms/step - loss: 0.0019\n",
      "Epoch 5/150\n",
      "51/51 [==============================] - 1s 22ms/step - loss: 0.0017\n",
      "Epoch 6/150\n",
      "51/51 [==============================] - 1s 22ms/step - loss: 0.0017\n",
      "Epoch 7/150\n",
      "51/51 [==============================] - 1s 22ms/step - loss: 0.0016\n",
      "Epoch 8/150\n",
      "51/51 [==============================] - 1s 22ms/step - loss: 0.0016\n",
      "Epoch 9/150\n",
      "51/51 [==============================] - 1s 23ms/step - loss: 0.0015\n",
      "Epoch 10/150\n",
      "51/51 [==============================] - 1s 22ms/step - loss: 0.0014\n",
      "Epoch 11/150\n",
      "51/51 [==============================] - 1s 23ms/step - loss: 0.0014\n",
      "Epoch 12/150\n",
      "51/51 [==============================] - 1s 22ms/step - loss: 0.0013\n",
      "Epoch 13/150\n",
      "51/51 [==============================] - 1s 22ms/step - loss: 0.0013\n",
      "Epoch 14/150\n",
      "51/51 [==============================] - 1s 22ms/step - loss: 0.0012\n",
      "Epoch 15/150\n",
      "51/51 [==============================] - 1s 22ms/step - loss: 0.0012\n",
      "Epoch 16/150\n",
      "51/51 [==============================] - 1s 22ms/step - loss: 0.0012\n",
      "Epoch 17/150\n",
      "51/51 [==============================] - 1s 22ms/step - loss: 0.0011\n",
      "Epoch 18/150\n",
      "51/51 [==============================] - 1s 22ms/step - loss: 0.0011\n",
      "Epoch 19/150\n",
      "51/51 [==============================] - 1s 22ms/step - loss: 0.0010\n",
      "Epoch 20/150\n",
      "51/51 [==============================] - 1s 22ms/step - loss: 9.5636e-04\n",
      "Epoch 21/150\n",
      "51/51 [==============================] - 1s 22ms/step - loss: 9.4395e-04\n",
      "Epoch 22/150\n",
      "51/51 [==============================] - 1s 22ms/step - loss: 8.8191e-04\n",
      "Epoch 23/150\n",
      "51/51 [==============================] - 1s 22ms/step - loss: 9.1265e-04\n",
      "Epoch 24/150\n",
      "51/51 [==============================] - 1s 22ms/step - loss: 8.4043e-04\n",
      "Epoch 25/150\n",
      "51/51 [==============================] - 1s 22ms/step - loss: 7.8764e-04\n",
      "Epoch 26/150\n",
      "51/51 [==============================] - 1s 23ms/step - loss: 7.7424e-04\n",
      "Epoch 27/150\n",
      "51/51 [==============================] - 1s 23ms/step - loss: 7.2411e-04\n",
      "Epoch 28/150\n",
      "51/51 [==============================] - 1s 23ms/step - loss: 7.5773e-04\n",
      "Epoch 29/150\n",
      "51/51 [==============================] - 1s 22ms/step - loss: 6.8164e-04\n",
      "Epoch 30/150\n",
      "51/51 [==============================] - 1s 22ms/step - loss: 6.6145e-04\n",
      "Epoch 31/150\n",
      "51/51 [==============================] - 1s 22ms/step - loss: 6.5419e-04\n",
      "Epoch 32/150\n",
      "51/51 [==============================] - 1s 22ms/step - loss: 6.6489e-04\n",
      "Epoch 33/150\n",
      "51/51 [==============================] - 1s 22ms/step - loss: 6.6389e-04\n",
      "Epoch 34/150\n",
      "51/51 [==============================] - 1s 22ms/step - loss: 6.1983e-04\n",
      "Epoch 35/150\n",
      "51/51 [==============================] - 1s 22ms/step - loss: 5.8916e-04\n",
      "Epoch 36/150\n",
      "51/51 [==============================] - 1s 22ms/step - loss: 5.9363e-04\n",
      "Epoch 37/150\n",
      "51/51 [==============================] - 1s 22ms/step - loss: 5.8818e-04\n",
      "Epoch 38/150\n",
      "51/51 [==============================] - 1s 22ms/step - loss: 5.7824e-04\n",
      "Epoch 39/150\n",
      "51/51 [==============================] - 1s 22ms/step - loss: 6.3409e-04\n",
      "Epoch 40/150\n",
      "51/51 [==============================] - 1s 22ms/step - loss: 5.2997e-04\n",
      "Epoch 41/150\n",
      "51/51 [==============================] - 1s 22ms/step - loss: 5.3768e-04\n",
      "Epoch 42/150\n",
      "51/51 [==============================] - 1s 22ms/step - loss: 5.1323e-04\n",
      "Epoch 43/150\n",
      "51/51 [==============================] - 1s 22ms/step - loss: 5.6942e-04\n",
      "Epoch 44/150\n",
      "51/51 [==============================] - 1s 22ms/step - loss: 5.2423e-04\n",
      "Epoch 45/150\n",
      "51/51 [==============================] - 1s 22ms/step - loss: 4.9235e-04\n",
      "Epoch 46/150\n",
      "51/51 [==============================] - 1s 23ms/step - loss: 4.8948e-04\n",
      "Epoch 47/150\n",
      "51/51 [==============================] - 1s 22ms/step - loss: 4.8515e-04\n",
      "Epoch 48/150\n",
      "51/51 [==============================] - 1s 23ms/step - loss: 4.8183e-04\n",
      "Epoch 49/150\n",
      "51/51 [==============================] - 1s 22ms/step - loss: 5.0119e-04\n",
      "Epoch 50/150\n",
      "51/51 [==============================] - 1s 22ms/step - loss: 4.7532e-04\n",
      "Epoch 51/150\n",
      "51/51 [==============================] - 1s 22ms/step - loss: 4.5166e-04\n",
      "Epoch 52/150\n",
      "51/51 [==============================] - 1s 22ms/step - loss: 5.0383e-04\n",
      "Epoch 53/150\n",
      "51/51 [==============================] - 1s 22ms/step - loss: 4.7789e-04\n",
      "Epoch 54/150\n",
      "51/51 [==============================] - 1s 22ms/step - loss: 4.3627e-04\n",
      "Epoch 55/150\n",
      "51/51 [==============================] - 1s 22ms/step - loss: 4.1053e-04\n",
      "Epoch 56/150\n",
      "51/51 [==============================] - 1s 22ms/step - loss: 4.1559e-04\n",
      "Epoch 57/150\n",
      "51/51 [==============================] - 1s 22ms/step - loss: 3.9914e-04\n",
      "Epoch 58/150\n",
      "51/51 [==============================] - 1s 22ms/step - loss: 4.0589e-04\n",
      "Epoch 59/150\n",
      "51/51 [==============================] - 1s 22ms/step - loss: 4.4118e-04\n",
      "Epoch 60/150\n",
      "51/51 [==============================] - 1s 22ms/step - loss: 4.0193e-04\n",
      "Epoch 61/150\n",
      "51/51 [==============================] - 1s 22ms/step - loss: 3.9584e-04\n",
      "Epoch 62/150\n",
      "51/51 [==============================] - 1s 22ms/step - loss: 3.8871e-04\n",
      "Epoch 63/150\n",
      "51/51 [==============================] - 1s 22ms/step - loss: 4.1623e-04\n",
      "Epoch 64/150\n",
      "51/51 [==============================] - 1s 22ms/step - loss: 3.7906e-04\n",
      "Epoch 65/150\n",
      "51/51 [==============================] - 1s 22ms/step - loss: 3.7554e-04\n",
      "Epoch 66/150\n",
      "51/51 [==============================] - 1s 22ms/step - loss: 3.6053e-04\n",
      "Epoch 67/150\n",
      "51/51 [==============================] - 1s 22ms/step - loss: 3.6773e-04\n",
      "Epoch 68/150\n",
      "51/51 [==============================] - 1s 22ms/step - loss: 3.9107e-04\n",
      "Epoch 69/150\n",
      "51/51 [==============================] - 1s 22ms/step - loss: 3.5554e-04\n",
      "Epoch 70/150\n",
      "51/51 [==============================] - 1s 22ms/step - loss: 3.5334e-04\n",
      "Epoch 71/150\n",
      "51/51 [==============================] - 1s 22ms/step - loss: 3.7818e-04\n",
      "Epoch 72/150\n",
      "51/51 [==============================] - 1s 22ms/step - loss: 3.7313e-04\n",
      "Epoch 73/150\n",
      "51/51 [==============================] - 1s 23ms/step - loss: 3.4646e-04\n",
      "Epoch 74/150\n",
      "51/51 [==============================] - 1s 22ms/step - loss: 3.6439e-04\n",
      "Epoch 75/150\n",
      "51/51 [==============================] - 1s 22ms/step - loss: 3.3262e-04\n",
      "Epoch 76/150\n",
      "51/51 [==============================] - 1s 22ms/step - loss: 3.5214e-04\n",
      "Epoch 77/150\n",
      "51/51 [==============================] - 1s 22ms/step - loss: 3.3951e-04\n",
      "Epoch 78/150\n",
      "51/51 [==============================] - 1s 22ms/step - loss: 3.6383e-04\n",
      "Epoch 79/150\n",
      "51/51 [==============================] - 1s 22ms/step - loss: 3.3695e-04\n",
      "Epoch 80/150\n",
      "51/51 [==============================] - 1s 22ms/step - loss: 3.5235e-04\n",
      "Epoch 81/150\n",
      "51/51 [==============================] - 1s 22ms/step - loss: 3.8716e-04\n",
      "Epoch 82/150\n",
      "51/51 [==============================] - 1s 22ms/step - loss: 3.2981e-04\n",
      "Epoch 83/150\n",
      "51/51 [==============================] - 1s 22ms/step - loss: 3.5980e-04\n",
      "Epoch 84/150\n",
      "51/51 [==============================] - 1s 22ms/step - loss: 3.2784e-04\n",
      "Epoch 85/150\n",
      "51/51 [==============================] - 1s 23ms/step - loss: 3.3353e-04\n",
      "Epoch 86/150\n",
      "51/51 [==============================] - 1s 23ms/step - loss: 3.2503e-04\n",
      "Epoch 87/150\n",
      "51/51 [==============================] - 1s 22ms/step - loss: 3.3813e-04\n",
      "Epoch 88/150\n",
      "51/51 [==============================] - 1s 22ms/step - loss: 3.2453e-04\n",
      "Epoch 89/150\n",
      "51/51 [==============================] - 1s 22ms/step - loss: 3.5312e-04\n",
      "Epoch 90/150\n",
      "51/51 [==============================] - 1s 22ms/step - loss: 3.3428e-04\n",
      "Epoch 91/150\n",
      "51/51 [==============================] - 1s 22ms/step - loss: 3.3794e-04\n",
      "Epoch 92/150\n",
      "51/51 [==============================] - 1s 22ms/step - loss: 3.1399e-04\n",
      "Epoch 93/150\n",
      "51/51 [==============================] - 1s 22ms/step - loss: 3.0924e-04\n",
      "Epoch 94/150\n",
      "51/51 [==============================] - 1s 23ms/step - loss: 3.1301e-04\n",
      "Epoch 95/150\n",
      "51/51 [==============================] - 1s 22ms/step - loss: 3.1012e-04\n",
      "Epoch 96/150\n",
      "51/51 [==============================] - 1s 22ms/step - loss: 3.3621e-04\n",
      "Epoch 97/150\n"
     ]
    },
    {
     "name": "stdout",
     "output_type": "stream",
     "text": [
      "51/51 [==============================] - 1s 22ms/step - loss: 3.1233e-04\n",
      "Epoch 98/150\n",
      "51/51 [==============================] - 1s 22ms/step - loss: 3.3057e-04\n",
      "Epoch 99/150\n",
      "51/51 [==============================] - 1s 22ms/step - loss: 3.1100e-04\n",
      "Epoch 100/150\n",
      "51/51 [==============================] - 1s 22ms/step - loss: 3.0387e-04\n",
      "Epoch 101/150\n",
      "51/51 [==============================] - 1s 22ms/step - loss: 3.0791e-04\n",
      "Epoch 102/150\n",
      "51/51 [==============================] - 1s 22ms/step - loss: 3.3821e-04\n",
      "Epoch 103/150\n",
      "51/51 [==============================] - 1s 22ms/step - loss: 3.0855e-04\n",
      "Epoch 104/150\n",
      "51/51 [==============================] - 1s 22ms/step - loss: 3.1289e-04\n",
      "Epoch 105/150\n",
      "51/51 [==============================] - 1s 22ms/step - loss: 3.0397e-04\n",
      "Epoch 106/150\n",
      "51/51 [==============================] - 1s 22ms/step - loss: 3.1438e-04\n",
      "Epoch 107/150\n",
      "51/51 [==============================] - 1s 22ms/step - loss: 3.2232e-04\n",
      "Epoch 108/150\n",
      "51/51 [==============================] - 1s 22ms/step - loss: 3.3605e-04\n",
      "Epoch 109/150\n",
      "51/51 [==============================] - 1s 22ms/step - loss: 3.0126e-04\n",
      "Epoch 110/150\n",
      "51/51 [==============================] - 1s 22ms/step - loss: 3.2484e-04\n",
      "Epoch 111/150\n",
      "51/51 [==============================] - 1s 22ms/step - loss: 3.6037e-04\n",
      "Epoch 112/150\n",
      "51/51 [==============================] - 1s 22ms/step - loss: 3.1052e-04\n",
      "Epoch 113/150\n",
      "51/51 [==============================] - 1s 22ms/step - loss: 3.0502e-04\n",
      "Epoch 114/150\n",
      "51/51 [==============================] - 1s 22ms/step - loss: 3.1084e-04\n",
      "Epoch 115/150\n",
      "51/51 [==============================] - 1s 22ms/step - loss: 2.9907e-04\n",
      "Epoch 116/150\n",
      "51/51 [==============================] - 1s 22ms/step - loss: 3.3584e-04\n",
      "Epoch 117/150\n",
      "51/51 [==============================] - 1s 22ms/step - loss: 3.0670e-04\n",
      "Epoch 118/150\n",
      "51/51 [==============================] - 1s 22ms/step - loss: 3.2453e-04\n",
      "Epoch 119/150\n",
      "51/51 [==============================] - 1s 22ms/step - loss: 3.1263e-04\n",
      "Epoch 120/150\n",
      "51/51 [==============================] - 1s 22ms/step - loss: 2.9880e-04\n",
      "Epoch 121/150\n",
      "51/51 [==============================] - 1s 23ms/step - loss: 3.0585e-04\n",
      "Epoch 122/150\n",
      "51/51 [==============================] - 1s 23ms/step - loss: 3.5013e-04\n",
      "Epoch 123/150\n",
      "51/51 [==============================] - 1s 22ms/step - loss: 3.8714e-04\n",
      "Epoch 124/150\n",
      "51/51 [==============================] - 1s 24ms/step - loss: 3.2287e-04\n",
      "Epoch 125/150\n",
      "51/51 [==============================] - 1s 22ms/step - loss: 2.9654e-04\n",
      "Epoch 126/150\n",
      "51/51 [==============================] - 1s 22ms/step - loss: 2.9677e-04\n",
      "Epoch 127/150\n",
      "51/51 [==============================] - 1s 22ms/step - loss: 3.0946e-04\n",
      "Epoch 128/150\n",
      "51/51 [==============================] - 1s 22ms/step - loss: 2.9743e-04\n",
      "Epoch 129/150\n",
      "51/51 [==============================] - 1s 22ms/step - loss: 3.0805e-04\n",
      "Epoch 130/150\n",
      "51/51 [==============================] - 1s 23ms/step - loss: 3.0243e-04\n",
      "Epoch 131/150\n",
      "51/51 [==============================] - 1s 23ms/step - loss: 3.0637e-04\n",
      "Epoch 132/150\n",
      "51/51 [==============================] - 1s 22ms/step - loss: 3.1011e-04\n",
      "Epoch 133/150\n",
      "51/51 [==============================] - 1s 22ms/step - loss: 3.0164e-04\n",
      "Epoch 134/150\n",
      "51/51 [==============================] - 1s 22ms/step - loss: 3.0088e-04\n",
      "Epoch 135/150\n",
      "51/51 [==============================] - 1s 22ms/step - loss: 2.9528e-04\n",
      "Epoch 136/150\n",
      "51/51 [==============================] - 1s 22ms/step - loss: 3.0808e-04\n",
      "Epoch 137/150\n",
      "51/51 [==============================] - 1s 22ms/step - loss: 3.2751e-04\n",
      "Epoch 138/150\n",
      "51/51 [==============================] - 1s 22ms/step - loss: 3.0981e-04\n",
      "Epoch 139/150\n",
      "51/51 [==============================] - 1s 22ms/step - loss: 2.9935e-04\n",
      "Epoch 140/150\n",
      "51/51 [==============================] - 1s 23ms/step - loss: 3.3460e-04\n",
      "Epoch 141/150\n",
      "51/51 [==============================] - 1s 22ms/step - loss: 2.9936e-04\n",
      "Epoch 142/150\n",
      "51/51 [==============================] - 1s 23ms/step - loss: 3.0240e-04\n",
      "Epoch 143/150\n",
      "51/51 [==============================] - 1s 22ms/step - loss: 3.0183e-04\n",
      "Epoch 144/150\n",
      "51/51 [==============================] - 1s 22ms/step - loss: 2.9994e-04\n",
      "Epoch 145/150\n",
      "51/51 [==============================] - 1s 22ms/step - loss: 2.9565e-04\n",
      "Epoch 146/150\n",
      "51/51 [==============================] - 1s 22ms/step - loss: 3.0736e-04\n",
      "Epoch 147/150\n",
      "51/51 [==============================] - 1s 23ms/step - loss: 3.1359e-04\n",
      "Epoch 148/150\n",
      "51/51 [==============================] - 1s 22ms/step - loss: 2.9685e-04\n",
      "Epoch 149/150\n",
      "51/51 [==============================] - 1s 22ms/step - loss: 2.9198e-04\n",
      "Epoch 150/150\n",
      "51/51 [==============================] - 1s 22ms/step - loss: 3.0436e-04\n"
     ]
    },
    {
     "data": {
      "text/plain": [
       "<keras.callbacks.History at 0x23e9b9f74f0>"
      ]
     },
     "execution_count": 74,
     "metadata": {},
     "output_type": "execute_result"
    }
   ],
   "source": [
    "model3.fit(X_train,y_train,batch_size=32,epochs=150)"
   ]
  },
  {
   "cell_type": "code",
   "execution_count": 75,
   "id": "8a6e8037",
   "metadata": {},
   "outputs": [
    {
     "name": "stdout",
     "output_type": "stream",
     "text": [
      "WARNING:tensorflow:6 out of the last 11 calls to <function Model.make_predict_function.<locals>.predict_function at 0x0000023E9BA3C3A0> triggered tf.function retracing. Tracing is expensive and the excessive number of tracings could be due to (1) creating @tf.function repeatedly in a loop, (2) passing tensors with different shapes, (3) passing Python objects instead of tensors. For (1), please define your @tf.function outside of the loop. For (2), @tf.function has reduce_retracing=True option that can avoid unnecessary retracing. For (3), please refer to https://www.tensorflow.org/guide/function#controlling_retracing and https://www.tensorflow.org/api_docs/python/tf/function for  more details.\n",
      "2/2 [==============================] - 1s 5ms/step\n"
     ]
    }
   ],
   "source": [
    "predict3 = model3.predict(X_test)\n",
    "normal_price3 = scaller.inverse_transform(predict3)"
   ]
  },
  {
   "cell_type": "code",
   "execution_count": 76,
   "id": "015b6c7b",
   "metadata": {},
   "outputs": [
    {
     "data": {
      "image/png": "[encoded data removed]",
      "text/plain": [
       "<Figure size 640x320 with 1 Axes>"
      ]
     },
     "metadata": {},
     "output_type": "display_data"
    }
   ],
   "source": [
    "plt.figure(figsize=(8,4), dpi=80, facecolor='w', edgecolor='k')\n",
    "plt.plot(test,color=\"orange\",label=\"Real value\")\n",
    "plt.plot(normal_price3,color=\"c\",label=\"LSTM Modified 2 predicted result\")\n",
    "plt.legend()\n",
    "plt.xlabel(\"Days\")\n",
    "plt.ylabel(\"Values\")\n",
    "plt.grid(True)\n",
    "plt.show()"
   ]
  },
  {
   "cell_type": "code",
   "execution_count": 77,
   "id": "9e13e2d5",
   "metadata": {},
   "outputs": [
    {
     "data": {
      "text/plain": [
       "0.8558694849423195"
      ]
     },
     "execution_count": 77,
     "metadata": {},
     "output_type": "execute_result"
    }
   ],
   "source": [
    "r2_score(test,normal_price3)"
   ]
  },
  {
   "cell_type": "code",
   "execution_count": 78,
   "id": "7cd70af7",
   "metadata": {},
   "outputs": [
    {
     "data": {
      "image/png": "[encoded data removed]",
      "text/plain": [
       "<Figure size 640x320 with 1 Axes>"
      ]
     },
     "metadata": {},
     "output_type": "display_data"
    }
   ],
   "source": [
    "plt.figure(figsize=(8,4), dpi=80, facecolor='w', edgecolor='k')\n",
    "plt.plot(test,color=\"orange\",label=\"Real value\")\n",
    "plt.plot(normal_price,color=\"green\",label=\"LSTM  predicted result\")\n",
    "plt.plot(normal_price2,color=\"red\",label=\"LSTM Modified 1 predicted result\")\n",
    "plt.plot(normal_price3,color=\"blue\",label=\"LSTM Modified 2 predicted result\")\n",
    "plt.legend()\n",
    "plt.xlabel(\"Days\")\n",
    "plt.ylabel(\"Values\")\n",
    "plt.grid(True)\n",
    "plt.show()"
   ]
  },
  {
   "cell_type": "code",
   "execution_count": null,
   "id": "78d9d94e",
   "metadata": {},
   "outputs": [],
   "source": []
  },
  {
   "cell_type": "code",
   "execution_count": null,
   "id": "87f8de3a",
   "metadata": {},
   "outputs": [],
   "source": []
  }
 ],
 "metadata": {
  "kernelspec": {
   "display_name": "Python 3 (ipykernel)",
   "language": "python",
   "name": "python3"
  },
  "language_info": {
   "codemirror_mode": {
    "name": "ipython",
    "version": 3
   },
   "file_extension": ".py",
   "mimetype": "text/x-python",
   "name": "python",
   "nbconvert_exporter": "python",
   "pygments_lexer": "ipython3",
   "version": "3.9.12"
  }
 },
 "nbformat": 4,
 "nbformat_minor": 5
}

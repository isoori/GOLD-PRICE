{
 "cells": [
  {
   "cell_type": "code",
   "execution_count": 8,
   "id": "66d664c0",
   "metadata": {},
   "outputs": [],
   "source": [
    "import pandas as pd\n",
    "import numpy as np\n",
    "import matplotlib.pyplot as plt\n",
    "\n",
    "from sklearn.metrics import r2_score\n",
    "from sklearn.preprocessing import MinMaxScaler\n",
    "\n"
   ]
  },
  {
   "cell_type": "code",
   "execution_count": 2,
   "id": "87871e42",
   "metadata": {},
   "outputs": [
    {
     "data": {
      "text/html": [
       "<div>\n",
       "<style scoped>\n",
       "    .dataframe tbody tr th:only-of-type {\n",
       "        vertical-align: middle;\n",
       "    }\n",
       "\n",
       "    .dataframe tbody tr th {\n",
       "        vertical-align: top;\n",
       "    }\n",
       "\n",
       "    .dataframe thead th {\n",
       "        text-align: right;\n",
       "    }\n",
       "</style>\n",
       "<table border=\"1\" class=\"dataframe\">\n",
       "  <thead>\n",
       "    <tr style=\"text-align: right;\">\n",
       "      <th></th>\n",
       "      <th>Date</th>\n",
       "      <th>Open</th>\n",
       "      <th>High</th>\n",
       "      <th>Low</th>\n",
       "      <th>Close</th>\n",
       "      <th>Adj Close</th>\n",
       "      <th>Volume</th>\n",
       "      <th>SP_open</th>\n",
       "      <th>SP_high</th>\n",
       "      <th>SP_low</th>\n",
       "      <th>...</th>\n",
       "      <th>GDX_Low</th>\n",
       "      <th>GDX_Close</th>\n",
       "      <th>GDX_Adj Close</th>\n",
       "      <th>GDX_Volume</th>\n",
       "      <th>USO_Open</th>\n",
       "      <th>USO_High</th>\n",
       "      <th>USO_Low</th>\n",
       "      <th>USO_Close</th>\n",
       "      <th>USO_Adj Close</th>\n",
       "      <th>USO_Volume</th>\n",
       "    </tr>\n",
       "  </thead>\n",
       "  <tbody>\n",
       "    <tr>\n",
       "      <th>0</th>\n",
       "      <td>2011-12-15</td>\n",
       "      <td>154.740005</td>\n",
       "      <td>154.949997</td>\n",
       "      <td>151.710007</td>\n",
       "      <td>152.330002</td>\n",
       "      <td>152.330002</td>\n",
       "      <td>21521900</td>\n",
       "      <td>123.029999</td>\n",
       "      <td>123.199997</td>\n",
       "      <td>121.989998</td>\n",
       "      <td>...</td>\n",
       "      <td>51.570000</td>\n",
       "      <td>51.680000</td>\n",
       "      <td>48.973877</td>\n",
       "      <td>20605600</td>\n",
       "      <td>36.900002</td>\n",
       "      <td>36.939999</td>\n",
       "      <td>36.049999</td>\n",
       "      <td>36.130001</td>\n",
       "      <td>36.130001</td>\n",
       "      <td>12616700</td>\n",
       "    </tr>\n",
       "    <tr>\n",
       "      <th>1</th>\n",
       "      <td>2011-12-16</td>\n",
       "      <td>154.309998</td>\n",
       "      <td>155.369995</td>\n",
       "      <td>153.899994</td>\n",
       "      <td>155.229996</td>\n",
       "      <td>155.229996</td>\n",
       "      <td>18124300</td>\n",
       "      <td>122.230003</td>\n",
       "      <td>122.949997</td>\n",
       "      <td>121.300003</td>\n",
       "      <td>...</td>\n",
       "      <td>52.040001</td>\n",
       "      <td>52.680000</td>\n",
       "      <td>49.921513</td>\n",
       "      <td>16285400</td>\n",
       "      <td>36.180000</td>\n",
       "      <td>36.500000</td>\n",
       "      <td>35.730000</td>\n",
       "      <td>36.270000</td>\n",
       "      <td>36.270000</td>\n",
       "      <td>12578800</td>\n",
       "    </tr>\n",
       "    <tr>\n",
       "      <th>2</th>\n",
       "      <td>2011-12-19</td>\n",
       "      <td>155.479996</td>\n",
       "      <td>155.860001</td>\n",
       "      <td>154.360001</td>\n",
       "      <td>154.869995</td>\n",
       "      <td>154.869995</td>\n",
       "      <td>12547200</td>\n",
       "      <td>122.059998</td>\n",
       "      <td>122.320000</td>\n",
       "      <td>120.029999</td>\n",
       "      <td>...</td>\n",
       "      <td>51.029999</td>\n",
       "      <td>51.169998</td>\n",
       "      <td>48.490578</td>\n",
       "      <td>15120200</td>\n",
       "      <td>36.389999</td>\n",
       "      <td>36.450001</td>\n",
       "      <td>35.930000</td>\n",
       "      <td>36.200001</td>\n",
       "      <td>36.200001</td>\n",
       "      <td>7418200</td>\n",
       "    </tr>\n",
       "    <tr>\n",
       "      <th>3</th>\n",
       "      <td>2011-12-20</td>\n",
       "      <td>156.820007</td>\n",
       "      <td>157.429993</td>\n",
       "      <td>156.580002</td>\n",
       "      <td>156.979996</td>\n",
       "      <td>156.979996</td>\n",
       "      <td>9136300</td>\n",
       "      <td>122.180000</td>\n",
       "      <td>124.139999</td>\n",
       "      <td>120.370003</td>\n",
       "      <td>...</td>\n",
       "      <td>52.369999</td>\n",
       "      <td>52.990002</td>\n",
       "      <td>50.215282</td>\n",
       "      <td>11644900</td>\n",
       "      <td>37.299999</td>\n",
       "      <td>37.610001</td>\n",
       "      <td>37.220001</td>\n",
       "      <td>37.560001</td>\n",
       "      <td>37.560001</td>\n",
       "      <td>10041600</td>\n",
       "    </tr>\n",
       "    <tr>\n",
       "      <th>4</th>\n",
       "      <td>2011-12-21</td>\n",
       "      <td>156.979996</td>\n",
       "      <td>157.529999</td>\n",
       "      <td>156.130005</td>\n",
       "      <td>157.160004</td>\n",
       "      <td>157.160004</td>\n",
       "      <td>11996100</td>\n",
       "      <td>123.930000</td>\n",
       "      <td>124.360001</td>\n",
       "      <td>122.750000</td>\n",
       "      <td>...</td>\n",
       "      <td>52.419998</td>\n",
       "      <td>52.959999</td>\n",
       "      <td>50.186852</td>\n",
       "      <td>8724300</td>\n",
       "      <td>37.669998</td>\n",
       "      <td>38.240002</td>\n",
       "      <td>37.520000</td>\n",
       "      <td>38.110001</td>\n",
       "      <td>38.110001</td>\n",
       "      <td>10728000</td>\n",
       "    </tr>\n",
       "  </tbody>\n",
       "</table>\n",
       "<p>5 rows × 81 columns</p>\n",
       "</div>"
      ],
      "text/plain": [
       "         Date        Open        High         Low       Close   Adj Close  \\\n",
       "0  2011-12-15  154.740005  154.949997  151.710007  152.330002  152.330002   \n",
       "1  2011-12-16  154.309998  155.369995  153.899994  155.229996  155.229996   \n",
       "2  2011-12-19  155.479996  155.860001  154.360001  154.869995  154.869995   \n",
       "3  2011-12-20  156.820007  157.429993  156.580002  156.979996  156.979996   \n",
       "4  2011-12-21  156.979996  157.529999  156.130005  157.160004  157.160004   \n",
       "\n",
       "     Volume     SP_open     SP_high      SP_low  ...    GDX_Low  GDX_Close  \\\n",
       "0  21521900  123.029999  123.199997  121.989998  ...  51.570000  51.680000   \n",
       "1  18124300  122.230003  122.949997  121.300003  ...  52.040001  52.680000   \n",
       "2  12547200  122.059998  122.320000  120.029999  ...  51.029999  51.169998   \n",
       "3   9136300  122.180000  124.139999  120.370003  ...  52.369999  52.990002   \n",
       "4  11996100  123.930000  124.360001  122.750000  ...  52.419998  52.959999   \n",
       "\n",
       "   GDX_Adj Close  GDX_Volume   USO_Open   USO_High    USO_Low  USO_Close  \\\n",
       "0      48.973877    20605600  36.900002  36.939999  36.049999  36.130001   \n",
       "1      49.921513    16285400  36.180000  36.500000  35.730000  36.270000   \n",
       "2      48.490578    15120200  36.389999  36.450001  35.930000  36.200001   \n",
       "3      50.215282    11644900  37.299999  37.610001  37.220001  37.560001   \n",
       "4      50.186852     8724300  37.669998  38.240002  37.520000  38.110001   \n",
       "\n",
       "   USO_Adj Close  USO_Volume  \n",
       "0      36.130001    12616700  \n",
       "1      36.270000    12578800  \n",
       "2      36.200001     7418200  \n",
       "3      37.560001    10041600  \n",
       "4      38.110001    10728000  \n",
       "\n",
       "[5 rows x 81 columns]"
      ]
     },
     "execution_count": 2,
     "metadata": {},
     "output_type": "execute_result"
    }
   ],
   "source": [
    "df = pd.read_csv('FINAL_USO.csv')\n",
    "df.head()"
   ]
  },
  {
   "cell_type": "code",
   "execution_count": 3,
   "id": "35f42676",
   "metadata": {},
   "outputs": [
    {
     "data": {
      "text/plain": [
       "Index(['Date', 'Open', 'High', 'Low', 'Close', 'Adj Close', 'Volume',\n",
       "       'SP_open', 'SP_high', 'SP_low', 'SP_close', 'SP_Ajclose', 'SP_volume',\n",
       "       'DJ_open', 'DJ_high', 'DJ_low', 'DJ_close', 'DJ_Ajclose', 'DJ_volume',\n",
       "       'EG_open', 'EG_high', 'EG_low', 'EG_close', 'EG_Ajclose', 'EG_volume',\n",
       "       'EU_Price', 'EU_open', 'EU_high', 'EU_low', 'EU_Trend', 'OF_Price',\n",
       "       'OF_Open', 'OF_High', 'OF_Low', 'OF_Volume', 'OF_Trend', 'OS_Price',\n",
       "       'OS_Open', 'OS_High', 'OS_Low', 'OS_Trend', 'SF_Price', 'SF_Open',\n",
       "       'SF_High', 'SF_Low', 'SF_Volume', 'SF_Trend', 'USB_Price', 'USB_Open',\n",
       "       'USB_High', 'USB_Low', 'USB_Trend', 'PLT_Price', 'PLT_Open', 'PLT_High',\n",
       "       'PLT_Low', 'PLT_Trend', 'PLD_Price', 'PLD_Open', 'PLD_High', 'PLD_Low',\n",
       "       'PLD_Trend', 'RHO_PRICE', 'USDI_Price', 'USDI_Open', 'USDI_High',\n",
       "       'USDI_Low', 'USDI_Volume', 'USDI_Trend', 'GDX_Open', 'GDX_High',\n",
       "       'GDX_Low', 'GDX_Close', 'GDX_Adj Close', 'GDX_Volume', 'USO_Open',\n",
       "       'USO_High', 'USO_Low', 'USO_Close', 'USO_Adj Close', 'USO_Volume'],\n",
       "      dtype='object')"
      ]
     },
     "execution_count": 3,
     "metadata": {},
     "output_type": "execute_result"
    }
   ],
   "source": [
    "df.columns"
   ]
  },
  {
   "cell_type": "code",
   "execution_count": 4,
   "id": "fe37da39",
   "metadata": {},
   "outputs": [],
   "source": [
    "gold_data = df.loc[:,['Date', 'Open', 'High', 'Low', 'Close', 'Adj Close', 'Volume']]"
   ]
  },
  {
   "cell_type": "code",
   "execution_count": 5,
   "id": "6a1b9ba4",
   "metadata": {},
   "outputs": [
    {
     "data": {
      "text/html": [
       "<div>\n",
       "<style scoped>\n",
       "    .dataframe tbody tr th:only-of-type {\n",
       "        vertical-align: middle;\n",
       "    }\n",
       "\n",
       "    .dataframe tbody tr th {\n",
       "        vertical-align: top;\n",
       "    }\n",
       "\n",
       "    .dataframe thead th {\n",
       "        text-align: right;\n",
       "    }\n",
       "</style>\n",
       "<table border=\"1\" class=\"dataframe\">\n",
       "  <thead>\n",
       "    <tr style=\"text-align: right;\">\n",
       "      <th></th>\n",
       "      <th>Date</th>\n",
       "      <th>Open</th>\n",
       "      <th>High</th>\n",
       "      <th>Low</th>\n",
       "      <th>Close</th>\n",
       "      <th>Adj Close</th>\n",
       "      <th>Volume</th>\n",
       "    </tr>\n",
       "  </thead>\n",
       "  <tbody>\n",
       "    <tr>\n",
       "      <th>0</th>\n",
       "      <td>2011-12-15</td>\n",
       "      <td>154.740005</td>\n",
       "      <td>154.949997</td>\n",
       "      <td>151.710007</td>\n",
       "      <td>152.330002</td>\n",
       "      <td>152.330002</td>\n",
       "      <td>21521900</td>\n",
       "    </tr>\n",
       "    <tr>\n",
       "      <th>1</th>\n",
       "      <td>2011-12-16</td>\n",
       "      <td>154.309998</td>\n",
       "      <td>155.369995</td>\n",
       "      <td>153.899994</td>\n",
       "      <td>155.229996</td>\n",
       "      <td>155.229996</td>\n",
       "      <td>18124300</td>\n",
       "    </tr>\n",
       "    <tr>\n",
       "      <th>2</th>\n",
       "      <td>2011-12-19</td>\n",
       "      <td>155.479996</td>\n",
       "      <td>155.860001</td>\n",
       "      <td>154.360001</td>\n",
       "      <td>154.869995</td>\n",
       "      <td>154.869995</td>\n",
       "      <td>12547200</td>\n",
       "    </tr>\n",
       "    <tr>\n",
       "      <th>3</th>\n",
       "      <td>2011-12-20</td>\n",
       "      <td>156.820007</td>\n",
       "      <td>157.429993</td>\n",
       "      <td>156.580002</td>\n",
       "      <td>156.979996</td>\n",
       "      <td>156.979996</td>\n",
       "      <td>9136300</td>\n",
       "    </tr>\n",
       "    <tr>\n",
       "      <th>4</th>\n",
       "      <td>2011-12-21</td>\n",
       "      <td>156.979996</td>\n",
       "      <td>157.529999</td>\n",
       "      <td>156.130005</td>\n",
       "      <td>157.160004</td>\n",
       "      <td>157.160004</td>\n",
       "      <td>11996100</td>\n",
       "    </tr>\n",
       "  </tbody>\n",
       "</table>\n",
       "</div>"
      ],
      "text/plain": [
       "         Date        Open        High         Low       Close   Adj Close  \\\n",
       "0  2011-12-15  154.740005  154.949997  151.710007  152.330002  152.330002   \n",
       "1  2011-12-16  154.309998  155.369995  153.899994  155.229996  155.229996   \n",
       "2  2011-12-19  155.479996  155.860001  154.360001  154.869995  154.869995   \n",
       "3  2011-12-20  156.820007  157.429993  156.580002  156.979996  156.979996   \n",
       "4  2011-12-21  156.979996  157.529999  156.130005  157.160004  157.160004   \n",
       "\n",
       "     Volume  \n",
       "0  21521900  \n",
       "1  18124300  \n",
       "2  12547200  \n",
       "3   9136300  \n",
       "4  11996100  "
      ]
     },
     "execution_count": 5,
     "metadata": {},
     "output_type": "execute_result"
    }
   ],
   "source": [
    "gold_data.head()"
   ]
  },
  {
   "cell_type": "code",
   "execution_count": 6,
   "id": "ac7788eb",
   "metadata": {},
   "outputs": [
    {
     "name": "stdout",
     "output_type": "stream",
     "text": [
      "<class 'pandas.core.frame.DataFrame'>\n",
      "RangeIndex: 1718 entries, 0 to 1717\n",
      "Data columns (total 7 columns):\n",
      " #   Column     Non-Null Count  Dtype  \n",
      "---  ------     --------------  -----  \n",
      " 0   Date       1718 non-null   object \n",
      " 1   Open       1718 non-null   float64\n",
      " 2   High       1718 non-null   float64\n",
      " 3   Low        1718 non-null   float64\n",
      " 4   Close      1718 non-null   float64\n",
      " 5   Adj Close  1718 non-null   float64\n",
      " 6   Volume     1718 non-null   int64  \n",
      "dtypes: float64(5), int64(1), object(1)\n",
      "memory usage: 94.1+ KB\n"
     ]
    }
   ],
   "source": [
    "gold_data.info()"
   ]
  },
  {
   "cell_type": "code",
   "execution_count": 7,
   "id": "6d358ae3",
   "metadata": {},
   "outputs": [
    {
     "data": {
      "text/plain": [
       "<AxesSubplot:>"
      ]
     },
     "execution_count": 7,
     "metadata": {},
     "output_type": "execute_result"
    },
    {
     "data": {
      "image/png": "[encoded data removed]",
      "text/plain": [
       "<Figure size 432x288 with 1 Axes>"
      ]
     },
     "metadata": {
      "needs_background": "light"
     },
     "output_type": "display_data"
    }
   ],
   "source": [
    "gold_data['Adj Close'].plot()"
   ]
  },
  {
   "cell_type": "code",
   "execution_count": 9,
   "id": "4b3b6964",
   "metadata": {},
   "outputs": [
    {
     "data": {
      "text/plain": [
       "array([152.330002, 155.229996, 154.869995, ..., 120.57    , 121.059998,\n",
       "       121.25    ])"
      ]
     },
     "execution_count": 9,
     "metadata": {},
     "output_type": "execute_result"
    }
   ],
   "source": [
    "data = gold_data['Adj Close'].values\n",
    "data"
   ]
  },
  {
   "cell_type": "code",
   "execution_count": 10,
   "id": "1f7639e2",
   "metadata": {},
   "outputs": [
    {
     "data": {
      "text/plain": [
       "array([[152.330002],\n",
       "       [155.229996],\n",
       "       [154.869995],\n",
       "       ...,\n",
       "       [120.57    ],\n",
       "       [121.059998],\n",
       "       [121.25    ]])"
      ]
     },
     "execution_count": 10,
     "metadata": {},
     "output_type": "execute_result"
    }
   ],
   "source": [
    "data = data.reshape(-1,1)\n",
    "data"
   ]
  },
  {
   "cell_type": "code",
   "execution_count": 11,
   "id": "ffe22694",
   "metadata": {},
   "outputs": [],
   "source": [
    "train = data[:data.shape[0]-50]\n",
    "test = data[len(train):]"
   ]
  },
  {
   "cell_type": "code",
   "execution_count": 14,
   "id": "6582b090",
   "metadata": {},
   "outputs": [
    {
     "data": {
      "text/plain": [
       "(1668, 1)"
      ]
     },
     "execution_count": 14,
     "metadata": {},
     "output_type": "execute_result"
    }
   ],
   "source": [
    "train.shape"
   ]
  },
  {
   "cell_type": "code",
   "execution_count": 15,
   "id": "9c1de11b",
   "metadata": {},
   "outputs": [
    {
     "data": {
      "text/plain": [
       "(50, 1)"
      ]
     },
     "execution_count": 15,
     "metadata": {},
     "output_type": "execute_result"
    }
   ],
   "source": [
    "test.shape"
   ]
  },
  {
   "cell_type": "code",
   "execution_count": 16,
   "id": "8a4ad758",
   "metadata": {},
   "outputs": [
    {
     "data": {
      "text/plain": [
       "array([[0.70893176],\n",
       "       [0.74859794],\n",
       "       [0.74367384],\n",
       "       ...,\n",
       "       [0.2120093 ],\n",
       "       [0.20927374],\n",
       "       [0.20913693]])"
      ]
     },
     "execution_count": 16,
     "metadata": {},
     "output_type": "execute_result"
    }
   ],
   "source": [
    "scaller = MinMaxScaler(feature_range=(0,1))\n",
    "train_scalled = scaller.fit_transform(train)\n",
    "train_scalled"
   ]
  },
  {
   "cell_type": "code",
   "execution_count": 17,
   "id": "96fb2363",
   "metadata": {},
   "outputs": [],
   "source": [
    "X_train , y_train = [] , []\n",
    "timesteps = 50\n",
    "\n",
    "for i in range (timesteps, train_scalled.shape[0]):\n",
    "    X_train.append(train_scalled[i-timesteps:i,0])\n",
    "    y_train.append(train_scalled[i,0])\n"
   ]
  },
  {
   "cell_type": "code",
   "execution_count": 18,
   "id": "a409fa5c",
   "metadata": {},
   "outputs": [],
   "source": [
    "X_train = np.array(X_train)\n",
    "y_train = np.array(y_train)"
   ]
  },
  {
   "cell_type": "code",
   "execution_count": 19,
   "id": "d285e439",
   "metadata": {},
   "outputs": [
    {
     "data": {
      "text/plain": [
       "(1618, 50)"
      ]
     },
     "execution_count": 19,
     "metadata": {},
     "output_type": "execute_result"
    }
   ],
   "source": [
    "X_train.shape"
   ]
  },
  {
   "cell_type": "code",
   "execution_count": 21,
   "id": "b17f7d6f",
   "metadata": {},
   "outputs": [
    {
     "data": {
      "text/plain": [
       "(1618,)"
      ]
     },
     "execution_count": 21,
     "metadata": {},
     "output_type": "execute_result"
    }
   ],
   "source": [
    "y_train.shape"
   ]
  },
  {
   "cell_type": "code",
   "execution_count": null,
   "id": "27516895",
   "metadata": {},
   "outputs": [],
   "source": []
  }
 ],
 "metadata": {
  "kernelspec": {
   "display_name": "Python 3 (ipykernel)",
   "language": "python",
   "name": "python3"
  },
  "language_info": {
   "codemirror_mode": {
    "name": "ipython",
    "version": 3
   },
   "file_extension": ".py",
   "mimetype": "text/x-python",
   "name": "python",
   "nbconvert_exporter": "python",
   "pygments_lexer": "ipython3",
   "version": "3.9.12"
  }
 },
 "nbformat": 4,
 "nbformat_minor": 5
}
